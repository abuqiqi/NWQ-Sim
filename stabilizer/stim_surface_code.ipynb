{
 "cells": [
  {
   "cell_type": "code",
   "execution_count": 3,
   "metadata": {},
   "outputs": [
    {
     "name": "stdout",
     "output_type": "stream",
     "text": [
      "1\n"
     ]
    }
   ],
   "source": [
    "import stim\n",
    "import time\n",
    "import random\n",
    "import numpy as np\n",
    "\n",
    "circuit = stim.Circuit()\n",
    "\n",
    "distance = 30\n",
    "rounds = 1000\n",
    "\n",
    "n = 2 * pow(distance, 2) + 1\n",
    "\n",
    "grid_size = distance + 1\n",
    "\n",
    "def q(i, j):\n",
    "    return i * grid_size + j\n",
    "\n",
    "for i in range(distance):\n",
    "    for j in range(distance):\n",
    "        if (i + j) % 2 == 1:\n",
    "            ancilla = q(i, j)\n",
    "            data_neighbors = [q(i+1, j), q(i, j+1), q(i-1, j), q(i, j-1)]\n",
    "            data_neighbors = [n for n in data_neighbors if 0 <= n < grid_size**2]\n",
    "\n",
    "            circuit.append(\"H\", [ancilla])\n",
    "            for data in data_neighbors:\n",
    "                circuit.append(\"CX\", [ancilla, data])\n",
    "            circuit.append(\"H\", [ancilla]) \n",
    "            circuit.append(\"M\", [ancilla]) \n",
    "\n",
    "for i in range(distance):\n",
    "    for j in range(distance):\n",
    "        if (i + j) % 2 == 0: \n",
    "            ancilla = q(i, j)\n",
    "            data_neighbors = [q(i+1, j), q(i, j+1), q(i-1, j), q(i, j-1)]\n",
    "            data_neighbors = [n for n in data_neighbors if 0 <= n < grid_size**2]\n",
    "\n",
    "            for data in data_neighbors:\n",
    "                circuit.append(\"CX\", [data, ancilla])\n",
    "            circuit.append(\"M\", [ancilla])\n",
    "\n",
    "circuit *= rounds\n",
    "#Inject an X error on a data qubit\n",
    "#circuit.append(\"X_ERROR(0.1)\", [q(1, 1)]) \n",
    "\n",
    "# samples = circuit.sample(num_samples=5)\n",
    "# print(\"\\n Measurement Samples:\")\n",
    "print(len(circuit))\n",
    "\n",
    "start = time.perf_counter()\n",
    "\n",
    "simulator = stim.TableauSimulator()\n",
    "simulator.do(circuit)\n",
    "\n",
    "end = time.perf_counter()\n",
    "\n",
    "\n",
    "filename = \"/Users/garn195/Project Repositories/NWQ-Sim/stabilizer/surface_code_test/stim_\"+ (str)(distance) + \".txt\"\n",
    "with open(filename, \"w\") as file:\n",
    "    file.write(\"stim\\n\")\n",
    "    file.write((str)(end-start)+\"\\n\")\n",
    "    file.write((str)(distance)+\"\\n\")\n",
    "    file.write((str)(rounds)+\"\\n\")\n",
    "    file.write((str)(n)+\"\\n\")"
   ]
  }
 ],
 "metadata": {
  "kernelspec": {
   "display_name": ".venv",
   "language": "python",
   "name": "python3"
  },
  "language_info": {
   "codemirror_mode": {
    "name": "ipython",
    "version": 3
   },
   "file_extension": ".py",
   "mimetype": "text/x-python",
   "name": "python",
   "nbconvert_exporter": "python",
   "pygments_lexer": "ipython3",
   "version": "3.12.5"
  }
 },
 "nbformat": 4,
 "nbformat_minor": 2
}
