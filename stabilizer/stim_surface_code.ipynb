{
 "cells": [
  {
   "cell_type": "code",
   "execution_count": null,
   "metadata": {},
   "outputs": [],
   "source": [
    "import stim\n",
    "import numpy as np\n",
    "\n",
    "circuit = stim.Circuit()\n",
    "\n",
    "\n",
    "distance = 3\n",
    "grid_size = distance + 1\n",
    "\n",
    "def q(i, j):\n",
    "    return i * grid_size + j\n",
    "\n",
    "for i in range(distance):\n",
    "    for j in range(distance):\n",
    "        if (i + j) % 2 == 1:\n",
    "            ancilla = q(i, j)\n",
    "            data_neighbors = [q(i+1, j), q(i, j+1), q(i-1, j), q(i, j-1)]\n",
    "            data_neighbors = [n for n in data_neighbors if 0 <= n < grid_size**2]\n",
    "\n",
    "            circuit.append(\"H\", [ancilla])\n",
    "            for data in data_neighbors:\n",
    "                circuit.append(\"CX\", [ancilla, data])\n",
    "            circuit.append(\"H\", [ancilla]) \n",
    "            circuit.append(\"M\", [ancilla]) \n",
    "\n",
    "for i in range(distance):\n",
    "    for j in range(distance):\n",
    "        if (i + j) % 2 == 0: \n",
    "            ancilla = q(i, j)\n",
    "            data_neighbors = [q(i+1, j), q(i, j+1), q(i-1, j), q(i, j-1)]\n",
    "            data_neighbors = [n for n in data_neighbors if 0 <= n < grid_size**2]\n",
    "\n",
    "            for data in data_neighbors:\n",
    "                circuit.append(\"CX\", [data, ancilla])\n",
    "            circuit.append(\"M\", [ancilla])\n",
    "\n",
    "#Inject an X error on a data qubit\n",
    "#circuit.append(\"X_ERROR(0.1)\", [q(1, 1)]) \n",
    "\n",
    "samples = circuit.sample(num_samples=5)\n",
    "print(\"\\n🔹 Measurement Samples:\")\n",
    "print(samples)\n",
    "\n",
    "simulator = stim.TableauSimulator()\n",
    "simulator.do(circuit)\n",
    "\n",
    "print(\"\\n🔹 Final Stabilizer Tableau:\")\n",
    "print(simulator.current_tableau()) \n"
   ]
  }
 ],
 "metadata": {
  "language_info": {
   "name": "python"
  }
 },
 "nbformat": 4,
 "nbformat_minor": 2
}
