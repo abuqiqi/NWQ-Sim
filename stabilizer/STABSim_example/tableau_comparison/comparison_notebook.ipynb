{
 "cells": [
  {
   "cell_type": "code",
   "execution_count": 10,
   "metadata": {},
   "outputs": [
    {
     "name": "stdout",
     "output_type": "stream",
     "text": [
      "Final stabilizer tableau:\n",
      "StabilizerState(['-ZXX', '-IYY', '-XXZ'])\n"
     ]
    }
   ],
   "source": [
    "from qiskit import QuantumCircuit\n",
    "from qiskit_aer import AerSimulator\n",
    "from qiskit_aer.library import SaveStabilizer\n",
    "\n",
    "qc = QuantumCircuit(3)\n",
    "\n",
    "qc.h(0)\n",
    "qc.s(1)\n",
    "qc.cx(0, 1)\n",
    "qc.cx(1, 2)\n",
    "\n",
    "qc.h(2)\n",
    "qc.sdg(0)\n",
    "qc.cx(2, 0)\n",
    "qc.h(1)\n",
    "\n",
    "qc.s(2)\n",
    "qc.cx(0, 2)\n",
    "qc.sdg(1)\n",
    "qc.h(0)\n",
    "\n",
    "qc.cx(1, 0)\n",
    "qc.cx(2, 1)\n",
    "qc.s(0)\n",
    "qc.h(2)\n",
    "\n",
    "qc.save_stabilizer(\"final_tableau\")\n",
    "\n",
    "sim = AerSimulator(method=\"stabilizer\")\n",
    "result = sim.run(qc).result()\n",
    "\n",
    "final_tableau = result.data(0)[\"final_tableau\"]\n",
    "print(\"Final stabilizer tableau:\")\n",
    "print(final_tableau)\n"
   ]
  },
  {
   "cell_type": "code",
   "execution_count": 11,
   "metadata": {},
   "outputs": [
    {
     "name": "stdout",
     "output_type": "stream",
     "text": [
      "Stim Stabilizer Tableau:\n",
      "+-xz-xz-xz-\n",
      "| +- -- +-\n",
      "| _X _Y YZ\n",
      "| _X XY _X\n",
      "| XZ __ XX\n"
     ]
    }
   ],
   "source": [
    "import stim\n",
    "\n",
    "circuit = stim.Circuit()\n",
    "\n",
    "circuit.append_operation(\"H\", [0])\n",
    "circuit.append_operation(\"S\", [1])\n",
    "circuit.append_operation(\"CX\", [0, 1])\n",
    "circuit.append_operation(\"CX\", [1, 2])\n",
    "\n",
    "circuit.append_operation(\"H\", [2])\n",
    "circuit.append_operation(\"S_DAG\", [0])\n",
    "circuit.append_operation(\"CX\", [2, 0])\n",
    "circuit.append_operation(\"H\", [1])\n",
    "\n",
    "circuit.append_operation(\"S\", [2])\n",
    "circuit.append_operation(\"CX\", [0, 2])\n",
    "circuit.append_operation(\"S_DAG\", [1])\n",
    "circuit.append_operation(\"H\", [0])\n",
    "\n",
    "circuit.append_operation(\"CX\", [1, 0])\n",
    "circuit.append_operation(\"CX\", [2, 1])\n",
    "circuit.append_operation(\"S\", [0])\n",
    "circuit.append_operation(\"H\", [2])\n",
    "\n",
    "sim = stim.TableauSimulator()\n",
    "sim.do_circuit(circuit)\n",
    "\n",
    "tableau = stim.Tableau.from_circuit(circuit)\n",
    "\n",
    "print(\"Stim Stabilizer Tableau:\")\n",
    "print(tableau)\n"
   ]
  }
 ],
 "metadata": {
  "kernelspec": {
   "display_name": ".venv",
   "language": "python",
   "name": "python3"
  },
  "language_info": {
   "codemirror_mode": {
    "name": "ipython",
    "version": 3
   },
   "file_extension": ".py",
   "mimetype": "text/x-python",
   "name": "python",
   "nbconvert_exporter": "python",
   "pygments_lexer": "ipython3",
   "version": "3.12.5"
  }
 },
 "nbformat": 4,
 "nbformat_minor": 2
}
