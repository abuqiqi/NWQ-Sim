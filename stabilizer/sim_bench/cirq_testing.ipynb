{
 "cells": [
  {
   "cell_type": "code",
   "execution_count": 7,
   "metadata": {},
   "outputs": [
    {
     "name": "stdout",
     "output_type": "stream",
     "text": [
      "162852\n",
      "Time 15.921727388000136\n",
      "89068\n",
      "Time 16.000659328999973\n",
      "44693\n",
      "Time 17.40121669300015\n",
      "22370\n",
      "Time 25.447011614999838\n",
      "11026\n",
      "Time 34.384297408000066\n",
      "5519\n",
      "Time 61.3039006219999\n",
      "2777\n",
      "Time 115.98943350100012\n",
      "1400\n"
     ]
    }
   ],
   "source": [
    "import cirq\n",
    "import time\n",
    "import random\n",
    "\n",
    "def benchmark_cirq(n_qubits):\n",
    "    for each in n_qubits:\n",
    "        qubits = [cirq.LineQubit(i) for i in range(each)]\n",
    "        n_repeats = 100000\n",
    "        Scount = 100000\n",
    "        Hcount = 100000\n",
    "        CXcount = 100000\n",
    "\n",
    "        circuit = cirq.Circuit()\n",
    "        for _ in range(n_repeats):\n",
    "            circuit.append(cirq.H(qubits[random.randint(0, each-1)]))  # Apply Hadamard\n",
    "            num = random.randint(1, each-2)\n",
    "            pos = random.choice([-1, 1])\n",
    "            circuit.append(cirq.CX(qubits[num], qubits[num+pos]))  # Nearest-neighbor interactions\n",
    "            circuit.append(cirq.S(qubits[random.randint(0, each-1)]))  # Phase gates (simulating evolution)\n",
    "                \n",
    "        print(len(circuit))\n",
    "        simulator = cirq.CliffordSimulator()\n",
    "\n",
    "        start = time.perf_counter()\n",
    "        final_state = simulator.simulate(circuit)\n",
    "        end = time.perf_counter()\n",
    "        \n",
    "        print(\"Time\", end - start)\n",
    "        \n",
    "        filename = f\"/Users/garn195/Project Repositories/NWQ-Sim/stabilizer/sim_bench/cirq_{each}.txt\"\n",
    "        with open(filename, \"w\") as file:\n",
    "            file.write(\"cirq\\n\")\n",
    "            file.write(f\"{end - start}\\n\")\n",
    "            file.write(f\"{each}\\n\")\n",
    "            file.write(f\"{Scount}\\n\")\n",
    "            file.write(f\"{Hcount}\\n\")\n",
    "            file.write(f\"{CXcount}\\n\")\n",
    "\n",
    "n_qubits = [4, 8, 16, 32, 64, 128, 256, 512, 1028, 2048, 4096]\n",
    "benchmark_cirq(n_qubits)\n"
   ]
  }
 ],
 "metadata": {
  "kernelspec": {
   "display_name": ".venv",
   "language": "python",
   "name": "python3"
  },
  "language_info": {
   "codemirror_mode": {
    "name": "ipython",
    "version": 3
   },
   "file_extension": ".py",
   "mimetype": "text/x-python",
   "name": "python",
   "nbconvert_exporter": "python",
   "pygments_lexer": "ipython3",
   "version": "3.12.5"
  }
 },
 "nbformat": 4,
 "nbformat_minor": 2
}
