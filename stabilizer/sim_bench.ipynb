{
 "cells": [
  {
   "cell_type": "code",
   "execution_count": null,
   "metadata": {},
   "outputs": [],
   "source": [
    "import os\n",
    "import numpy as np\n",
    "import matplotlib.pyplot as plt\n",
    "\n",
    "def read_and_label_file(filepath):\n",
    "    with open(filepath, 'r') as f:\n",
    "        lines = f.readlines()\n",
    "    \n",
    "    labels = [\"sim_name\", \"sim_time\", \"n_qubits\", \"Scount\", \"Hcount\", \"CXcount\"]\n",
    "    data = {labels[i]: lines[i].strip() if i == 0 else float(lines[i]) for i in range(len(lines))}\n",
    "    \n",
    "    return data\n",
    "\n",
    "def process_folder(folder_path):\n",
    "    all_data = []\n",
    "    \n",
    "    for filename in os.listdir(folder_path):\n",
    "        if filename.endswith(\".txt\"):  # Process only text files\n",
    "            filepath = os.path.join(folder_path, filename)\n",
    "            data = read_and_label_file(filepath)\n",
    "            all_data.append(data)\n",
    "    \n",
    "    return all_data\n",
    "\n",
    "def plot_data(all_data):\n",
    "    sim_times = []\n",
    "    total_counts = []\n",
    "    labels = []\n",
    "    \n",
    "    for data in all_data:\n",
    "        sim_times.append(data[\"sim_time\"])\n",
    "        total_counts.append(data[\"Scount\"] + data[\"Hcount\"] + data[\"CXcount\"])\n",
    "        labels.append(f\"{int(data['n_qubits'])} qubits\")\n",
    "    \n",
    "    plt.figure(figsize=(8, 6))\n",
    "    plt.scatter(sim_times, total_counts, label=labels)\n",
    "    plt.xlabel(\"Simulation Time\")\n",
    "    plt.ylabel(\"Total Gate Count (S + H + CX)\")\n",
    "    plt.legend()\n",
    "    plt.title(\"Total Gate Count vs Simulation Time\")\n",
    "    plt.show()\n",
    "\n",
    "# Example usage\n",
    "folder_path = \"sim_bench\"  # Change this to your actual folder path\n",
    "all_data = process_folder(folder_path)\n",
    "plot_data(all_data)"
   ]
  }
 ],
 "metadata": {
  "language_info": {
   "name": "python"
  }
 },
 "nbformat": 4,
 "nbformat_minor": 2
}
