{
 "cells": [
  {
   "cell_type": "code",
   "execution_count": 4,
   "metadata": {},
   "outputs": [
    {
     "name": "stdout",
     "output_type": "stream",
     "text": [
      "qiskit done\n",
      "\n"
     ]
    },
    {
     "name": "stderr",
     "output_type": "stream",
     "text": [
      "/var/folders/b5/cbnlm0vn1j54xy3c75jt4gwc0000gn/T/ipykernel_66151/1781300738.py:51: DeprecationWarning: Treating CircuitInstruction as an iterable is deprecated legacy behavior since Qiskit 1.2, and will be removed in Qiskit 2.0. Instead, use the `operation`, `qubits` and `clbits` named attributes.\n",
      "  for inst, qargs, _ in qc.data:\n"
     ]
    },
    {
     "ename": "KeyboardInterrupt",
     "evalue": "",
     "output_type": "error",
     "traceback": [
      "\u001b[0;31m---------------------------------------------------------------------------\u001b[0m",
      "\u001b[0;31mKeyboardInterrupt\u001b[0m                         Traceback (most recent call last)",
      "Cell \u001b[0;32mIn[4], line 53\u001b[0m\n\u001b[1;32m     50\u001b[0m \u001b[38;5;66;03m# Iterate over the Qiskit circuit data in a more optimized manner\u001b[39;00m\n\u001b[1;32m     51\u001b[0m \u001b[38;5;28;01mfor\u001b[39;00m inst, qargs, _ \u001b[38;5;129;01min\u001b[39;00m qc\u001b[38;5;241m.\u001b[39mdata:\n\u001b[1;32m     52\u001b[0m         \u001b[38;5;66;03m# Find the qubit indices\u001b[39;00m\n\u001b[0;32m---> 53\u001b[0m     qargs_indices \u001b[38;5;241m=\u001b[39m [\u001b[43mqc\u001b[49m\u001b[38;5;241;43m.\u001b[39;49m\u001b[43mqubits\u001b[49m\u001b[38;5;241;43m.\u001b[39;49m\u001b[43mindex\u001b[49m\u001b[43m(\u001b[49m\u001b[43mqubit\u001b[49m\u001b[43m)\u001b[49m \u001b[38;5;28;01mfor\u001b[39;00m qubit \u001b[38;5;129;01min\u001b[39;00m qargs]\n\u001b[1;32m     55\u001b[0m     \u001b[38;5;66;03m# Map Qiskit gates to Stim gates\u001b[39;00m\n\u001b[1;32m     56\u001b[0m     \u001b[38;5;28;01mif\u001b[39;00m inst\u001b[38;5;241m.\u001b[39mname \u001b[38;5;241m==\u001b[39m \u001b[38;5;124m'\u001b[39m\u001b[38;5;124mh\u001b[39m\u001b[38;5;124m'\u001b[39m:\n",
      "File \u001b[0;32m~/Project Repositories/.venv/lib/python3.12/site-packages/qiskit/circuit/bit.py:82\u001b[0m, in \u001b[0;36mBit.__eq__\u001b[0;34m(self, other)\u001b[0m\n\u001b[1;32m     79\u001b[0m \u001b[38;5;28;01mdef\u001b[39;00m \u001b[38;5;21m__hash__\u001b[39m(\u001b[38;5;28mself\u001b[39m):\n\u001b[1;32m     80\u001b[0m     \u001b[38;5;28;01mreturn\u001b[39;00m \u001b[38;5;28mself\u001b[39m\u001b[38;5;241m.\u001b[39m_hash\n\u001b[0;32m---> 82\u001b[0m \u001b[38;5;28;01mdef\u001b[39;00m \u001b[38;5;21m__eq__\u001b[39m(\u001b[38;5;28mself\u001b[39m, other):\n\u001b[1;32m     83\u001b[0m     \u001b[38;5;28;01mif\u001b[39;00m (\u001b[38;5;28mself\u001b[39m\u001b[38;5;241m.\u001b[39m_register, \u001b[38;5;28mself\u001b[39m\u001b[38;5;241m.\u001b[39m_index) \u001b[38;5;241m==\u001b[39m (\u001b[38;5;28;01mNone\u001b[39;00m, \u001b[38;5;28;01mNone\u001b[39;00m):\n\u001b[1;32m     84\u001b[0m         \u001b[38;5;28;01mreturn\u001b[39;00m other \u001b[38;5;129;01mis\u001b[39;00m \u001b[38;5;28mself\u001b[39m\n",
      "\u001b[0;31mKeyboardInterrupt\u001b[0m: "
     ]
    }
   ],
   "source": [
    "import stim\n",
    "import random\n",
    "import time\n",
    "import os\n",
    "import math\n",
    "from qiskit import QuantumCircuit\n",
    "from qiskit_aer import AerSimulator\n",
    "\n",
    "\n",
    "import stim\n",
    "\n",
    "folder_path = \"/Users/garn195/Project Repositories/NWQ-Sim/stabilizer/stim_to_qasm_files\"\n",
    "# Ensure the folder exists\n",
    "if not os.path.isdir(folder_path):\n",
    "    print(f\"The folder '{folder_path}' does not exist.\")\n",
    "\n",
    "# List all files in the folder\n",
    "qasm_files = [f for f in os.listdir(folder_path) if f.endswith('.qasm')]\n",
    "\n",
    "if not qasm_files:\n",
    "    print(\"No .qasm files found in the folder.\")\n",
    "\n",
    "for qasm_file in qasm_files:\n",
    "    full_path = os.path.join(folder_path, qasm_file)\n",
    "\n",
    "    qc = QuantumCircuit.from_qasm_file(full_path)\n",
    "\n",
    "    sim = AerSimulator(method=\"stabilizer\")\n",
    "    n_qubits = qc.num_qubits\n",
    "\n",
    "    if n_qubits < 5000:\n",
    "        start = time.perf_counter()\n",
    "        result = sim.run(qc).result()\n",
    "        end = time.perf_counter()\n",
    "        elapsed = end - start\n",
    "\n",
    "        output_dir = \"/Users/garn195/Project Repositories/NWQ-Sim/stabilizer/surface_operation_bench\"\n",
    "\n",
    "        os.makedirs(output_dir, exist_ok=True)\n",
    "        filename = os.path.join(output_dir, f\"qiskit_{n_qubits}.txt\")\n",
    "        with open(filename, \"w\") as f:\n",
    "            f.write(\"qiskit\\n\")\n",
    "            f.write(f\"{elapsed}\\n\")\n",
    "            f.write(f\"{n_qubits}\\n\")\n",
    "    \n",
    "    print(\"qiskit done\\n\")\n",
    "\n",
    "    circuit = stim.Circuit()\n",
    "\n",
    "    # Iterate over the Qiskit circuit data in a more optimized manner\n",
    "    for inst, qargs, _ in qc.data:\n",
    "            # Find the qubit indices\n",
    "        qargs_indices = [qc.qubits.index(qubit) for qubit in qargs]\n",
    "\n",
    "        # Map Qiskit gates to Stim gates\n",
    "        if inst.name == 'h':\n",
    "            circuit.append(\"H\", qargs_indices)\n",
    "        elif inst.name == 'cx':\n",
    "            if len(qargs) % 2 == 0:  # Ensure we have an even number of qubits for CX gates\n",
    "                for i in range(0, len(qargs_indices), 2):\n",
    "                    circuit.append(\"CX\", [qargs_indices[i], qargs_indices[i+1]])\n",
    "            else:\n",
    "                raise ValueError(\"CX gate requires an even number of qubits, but got an odd number.\")\n",
    "        elif inst.name == 's':\n",
    "            circuit.append(\"S\", qargs_indices)\n",
    "        elif inst.name == 'reset':\n",
    "            circuit.append(\"R\", qargs_indices)\n",
    "        elif inst.name == 'measure':\n",
    "            circuit.append(\"M\", qargs_indices)\n",
    "        elif inst.name in {'barrier', 'id'}:\n",
    "            # Skip no-op or unsupported gates that are safe to ignore\n",
    "            continue\n",
    "        else:\n",
    "            raise NotImplementedError(f\"Gate '{inst.name}' is not supported by Stim\")\n",
    "\n",
    "    \n",
    "    simulator = stim.TableauSimulator()\n",
    "\n",
    "    if n_qubits < 15000:\n",
    "        start = time.perf_counter()\n",
    "        simulator.do_circuit(circuit)\n",
    "        end = time.perf_counter()\n",
    "        elapsed = end - start\n",
    "\n",
    "        os.makedirs(output_dir, exist_ok=True)\n",
    "        filename = os.path.join(output_dir, f\"stim_{n_qubits}.txt\")\n",
    "        with open(filename, \"w\") as f:\n",
    "            f.write(\"stim\\n\")\n",
    "            f.write(f\"{elapsed}\\n\")\n",
    "            f.write(f\"{n_qubits}\\n\")\n",
    "    \n",
    "    print(\"stim done\\n\")\n"
   ]
  }
 ],
 "metadata": {
  "kernelspec": {
   "display_name": ".venv",
   "language": "python",
   "name": "python3"
  },
  "language_info": {
   "codemirror_mode": {
    "name": "ipython",
    "version": 3
   },
   "file_extension": ".py",
   "mimetype": "text/x-python",
   "name": "python",
   "nbconvert_exporter": "python",
   "pygments_lexer": "ipython3",
   "version": "3.12.5"
  }
 },
 "nbformat": 4,
 "nbformat_minor": 2
}
