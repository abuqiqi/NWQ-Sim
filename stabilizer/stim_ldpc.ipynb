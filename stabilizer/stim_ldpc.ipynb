{
 "cells": [
  {
   "cell_type": "code",
   "execution_count": 1,
   "metadata": {},
   "outputs": [
    {
     "ename": "ValueError",
     "evalue": "The two qubit gate CX was applied to a target pair with the same target (0) twice. Gates can't interact targets with themselves.",
     "output_type": "error",
     "traceback": [
      "\u001b[0;31m---------------------------------------------------------------------------\u001b[0m",
      "\u001b[0;31mValueError\u001b[0m                                Traceback (most recent call last)",
      "Cell \u001b[0;32mIn[1], line 29\u001b[0m\n\u001b[1;32m     27\u001b[0m distance \u001b[38;5;241m=\u001b[39m d\n\u001b[1;32m     28\u001b[0m rounds \u001b[38;5;241m=\u001b[39m \u001b[38;5;241m1000\u001b[39m\n\u001b[0;32m---> 29\u001b[0m circuit \u001b[38;5;241m=\u001b[39m \u001b[43mcreate_ldpc_circuit\u001b[49m\u001b[43m(\u001b[49m\u001b[43mdistance\u001b[49m\u001b[43m,\u001b[49m\u001b[43m \u001b[49m\u001b[43mrounds\u001b[49m\u001b[43m)\u001b[49m\n\u001b[1;32m     31\u001b[0m start \u001b[38;5;241m=\u001b[39m time\u001b[38;5;241m.\u001b[39mperf_counter()\n\u001b[1;32m     32\u001b[0m simulator \u001b[38;5;241m=\u001b[39m stim\u001b[38;5;241m.\u001b[39mTableauSimulator()\n",
      "Cell \u001b[0;32mIn[1], line 13\u001b[0m, in \u001b[0;36mcreate_ldpc_circuit\u001b[0;34m(distance, rounds)\u001b[0m\n\u001b[1;32m     10\u001b[0m \u001b[38;5;28;01mfor\u001b[39;00m _ \u001b[38;5;129;01min\u001b[39;00m \u001b[38;5;28mrange\u001b[39m(rounds):\n\u001b[1;32m     11\u001b[0m     \u001b[38;5;66;03m# Apply stabilizers\u001b[39;00m\n\u001b[1;32m     12\u001b[0m     \u001b[38;5;28;01mfor\u001b[39;00m i \u001b[38;5;129;01min\u001b[39;00m \u001b[38;5;28mrange\u001b[39m(distance):\n\u001b[0;32m---> 13\u001b[0m         \u001b[43mcircuit\u001b[49m\u001b[38;5;241;43m.\u001b[39;49m\u001b[43mappend\u001b[49m\u001b[43m(\u001b[49m\u001b[38;5;124;43m'\u001b[39;49m\u001b[38;5;124;43mCX\u001b[39;49m\u001b[38;5;124;43m'\u001b[39;49m\u001b[43m,\u001b[49m\u001b[43m \u001b[49m\u001b[43m[\u001b[49m\u001b[43mi\u001b[49m\u001b[43m,\u001b[49m\u001b[43m \u001b[49m\u001b[43m(\u001b[49m\u001b[43mi\u001b[49m\u001b[43m \u001b[49m\u001b[38;5;241;43m+\u001b[39;49m\u001b[43m \u001b[49m\u001b[38;5;241;43m2\u001b[39;49m\u001b[43m)\u001b[49m\u001b[43m \u001b[49m\u001b[38;5;241;43m%\u001b[39;49m\u001b[43m \u001b[49m\u001b[43mnum_data_qubits\u001b[49m\u001b[43m]\u001b[49m\u001b[43m)\u001b[49m\n\u001b[1;32m     14\u001b[0m         circuit\u001b[38;5;241m.\u001b[39mappend(\u001b[38;5;124m'\u001b[39m\u001b[38;5;124mH\u001b[39m\u001b[38;5;124m'\u001b[39m, [(i \u001b[38;5;241m+\u001b[39m \u001b[38;5;241m1\u001b[39m) \u001b[38;5;241m%\u001b[39m num_data_qubits])\n\u001b[1;32m     15\u001b[0m         circuit\u001b[38;5;241m.\u001b[39mappend(\u001b[38;5;124m'\u001b[39m\u001b[38;5;124mCX\u001b[39m\u001b[38;5;124m'\u001b[39m, [(i \u001b[38;5;241m+\u001b[39m \u001b[38;5;241m1\u001b[39m) \u001b[38;5;241m%\u001b[39m num_data_qubits, (i \u001b[38;5;241m+\u001b[39m \u001b[38;5;241m3\u001b[39m) \u001b[38;5;241m%\u001b[39m num_data_qubits])\n",
      "\u001b[0;31mValueError\u001b[0m: The two qubit gate CX was applied to a target pair with the same target (0) twice. Gates can't interact targets with themselves."
     ]
    }
   ],
   "source": [
    "import stim\n",
    "import time\n",
    "\n",
    "def create_ldpc_circuit(distance, rounds):\n",
    "    circuit = stim.Circuit()\n",
    "    num_data_qubits = 2 * distance  # Data qubits\n",
    "    num_ancillas = distance  # Ancilla qubits for stabilizer measurements\n",
    "    num_qubits = num_data_qubits + num_ancillas  # Total qubits\n",
    "    \n",
    "    for _ in range(rounds):\n",
    "        # Apply stabilizers\n",
    "        for i in range(distance):\n",
    "            circuit.append('CX', [i, (i + 2) % num_data_qubits])\n",
    "            circuit.append('H', [(i + 1) % num_data_qubits])\n",
    "            circuit.append('CX', [(i + 1) % num_data_qubits, (i + 3) % num_data_qubits])\n",
    "            circuit.append('H', [(i + 1) % num_data_qubits])\n",
    "        \n",
    "        # Measure stabilizers using ancillas\n",
    "        for i in range(distance):\n",
    "            circuit.append('CX', [i, num_data_qubits + i])\n",
    "            circuit.append('CX', [(i + 1) % num_data_qubits, num_data_qubits + i])\n",
    "            circuit.append('M', [num_data_qubits + i])\n",
    "    \n",
    "    return circuit\n",
    "\n",
    "for d in range(1, 15, 2):\n",
    "    distance = d\n",
    "    rounds = 1000\n",
    "    circuit = create_ldpc_circuit(distance, rounds)\n",
    "    \n",
    "    start = time.perf_counter()\n",
    "    simulator = stim.TableauSimulator()\n",
    "    simulator.do(circuit)\n",
    "    end = time.perf_counter()\n",
    "    \n",
    "    filename = f\"/Users/garn195/Project Repositories/NWQ-Sim/stabilizer/ldpc_stim_{distance}.txt\"\n",
    "    with open(filename, \"w\") as file:\n",
    "        file.write(\"stim\\n\")\n",
    "        file.write(f\"{end-start}\\n\")\n",
    "        file.write(f\"{distance}\\n\")\n",
    "        file.write(f\"{rounds}\\n\")\n",
    "        file.write(f\"{(3 * distance)}\\n\")  # Updated total qubits\n"
   ]
  }
 ],
 "metadata": {
  "kernelspec": {
   "display_name": ".venv",
   "language": "python",
   "name": "python3"
  },
  "language_info": {
   "codemirror_mode": {
    "name": "ipython",
    "version": 3
   },
   "file_extension": ".py",
   "mimetype": "text/x-python",
   "name": "python",
   "nbconvert_exporter": "python",
   "pygments_lexer": "ipython3",
   "version": "3.12.5"
  }
 },
 "nbformat": 4,
 "nbformat_minor": 2
}
