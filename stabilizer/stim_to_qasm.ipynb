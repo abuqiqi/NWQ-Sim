{
 "cells": [
  {
   "cell_type": "code",
   "execution_count": 2,
   "metadata": {},
   "outputs": [
    {
     "name": "stdout",
     "output_type": "stream",
     "text": [
      "Found 297 stim files.\n",
      "Converted: name=multi_measure_Z_one_round_d=9_space=7_weight=6\n",
      "Converted: name=multi_measure_Z_one_round_d=9_space=6_weight=6\n",
      "Converted: name=multi_measure_Z_one_round_d=7_space=10_weight=10\n",
      "Converted: name=multi_measure_Z_one_round_d=7_space=0_weight=6\n",
      "Converted: name=multi_measure_Z_one_round_d=7_space=1_weight=6\n"
     ]
    }
   ],
   "source": [
    "import stim\n",
    "from pathlib import Path\n",
    "\n",
    "def stim_to_qasm(file_path: Path) -> str:\n",
    "    with file_path.open(\"r\") as f:\n",
    "        circuit_text = f.read()\n",
    "\n",
    "    circuit = stim.Circuit(circuit_text)\n",
    "    clean_circuit = circuit.without_noise()\n",
    "    qasm_str = clean_circuit.to_qasm(open_qasm_version=2, skip_dets_and_obs=True)\n",
    "    return qasm_str\n",
    "\n",
    "def clean_stim(file_path: Path) -> str:\n",
    "    with file_path.open(\"r\") as f:\n",
    "        circuit_text = f.read()\n",
    "\n",
    "    circuit = stim.Circuit(circuit_text)\n",
    "    clean_circuit = stim.Circuit()\n",
    "\n",
    "    for instruction in circuit:\n",
    "        name = instruction.name\n",
    "        if name in {\"DETECTOR\", \"OBSERVABLE_INCLUDE\", \"QUBIT_COORDS\"}:\n",
    "            continue  # skip metadata and detectors\n",
    "        if any(\"rec[\" in str(t) for t in instruction.targets_copy()):\n",
    "            continue  # skip feedback instructions\n",
    "\n",
    "        targets = instruction.targets_copy()\n",
    "\n",
    "        # Special handling for multi-target CX gates\n",
    "        if name == \"CX\":\n",
    "            for i in range(0, len(targets), 2):\n",
    "                clean_circuit.append(name, [targets[i], targets[i+1]])\n",
    "        else:\n",
    "            # For other gates, split them into single-target gates\n",
    "            for target in targets:\n",
    "                clean_circuit.append(name, [target])\n",
    "\n",
    "    return str(clean_circuit)\n",
    "\n",
    "\n",
    "source_folder = Path(\"/Users/garn195/Project Repositories/Stim_Benchmarks/Circuits/Pauli_product\")\n",
    "qasm_folder = Path(\"/Users/garn195/Project Repositories/NWQ-Sim/stabilizer/stim_to_qasm_files\")\n",
    "clean_stim_folder = Path(\"/Users/garn195/Project Repositories/NWQ-Sim/stabilizer/stim_to_stim_files\")\n",
    "\n",
    "qasm_folder.mkdir(parents=True, exist_ok=True)\n",
    "clean_stim_folder.mkdir(parents=True, exist_ok=True)\n",
    "\n",
    "stim_files = list(source_folder.rglob(\"*\"))\n",
    "print(f\"Found {len(stim_files)} stim files.\")\n",
    "\n",
    "for stim_file in stim_files:\n",
    "    try:\n",
    "        qasm_str = stim_to_qasm(stim_file)\n",
    "        qasm_output_path = qasm_folder / (stim_file.stem + \".qasm\")\n",
    "        qasm_output_path.write_text(qasm_str)\n",
    "\n",
    "        clean_stim_str = clean_stim(stim_file)\n",
    "        clean_stim_output_path = clean_stim_folder / (stim_file.name + \".stim\")\n",
    "        clean_stim_output_path.write_text(clean_stim_str)\n",
    "\n",
    "        print(f\"Converted: {stim_file.name}\")\n",
    "\n",
    "    except Exception as e:\n",
    "        print(f\"Error processing {stim_file.name}: {e}\")\n",
    "\n"
   ]
  }
 ],
 "metadata": {
  "kernelspec": {
   "display_name": ".venv",
   "language": "python",
   "name": "python3"
  },
  "language_info": {
   "codemirror_mode": {
    "name": "ipython",
    "version": 3
   },
   "file_extension": ".py",
   "mimetype": "text/x-python",
   "name": "python",
   "nbconvert_exporter": "python",
   "pygments_lexer": "ipython3",
   "version": "3.12.5"
  }
 },
 "nbformat": 4,
 "nbformat_minor": 2
}
