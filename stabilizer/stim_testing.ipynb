{
 "cells": [
  {
   "cell_type": "code",
   "execution_count": 4,
   "metadata": {},
   "outputs": [
    {
     "name": "stdout",
     "output_type": "stream",
     "text": [
      "300000\n",
      "Time 0.018939266999950632\n",
      "[]\n",
      "300000\n",
      "Time 0.01438084700203035\n",
      "[]\n",
      "300000\n",
      "Time 0.014157598998281173\n",
      "[]\n"
     ]
    }
   ],
   "source": [
    "import stim\n",
    "import time\n",
    "import random\n",
    "\n",
    "n_qubits = {4, 8, 16, 32, 64, 128, 256, 512, 1028, 2048, 4096, 8192, 16384}\n",
    "for each in n_qubits:\n",
    "    circuit = stim.Circuit()\n",
    "    n_repeats = 100000\n",
    "    Scount = 100000\n",
    "    Hcount = 100000\n",
    "    CXcount = 100000\n",
    "\n",
    "    # Efficiently repeat it n_repeats times\n",
    "    for repeats in range(n_repeats):\n",
    "        circuit.append(\"H\", random.randint(0, each-1))  # Apply Hadamard\n",
    "        num = random.randint(0, each-2)\n",
    "        circuit.append(\"CX\", [num, num+1])  # Nearest-neighbor interactions\n",
    "        circuit.append(\"S\", random.randint(0, each-1))  # Phase gates (simulating evolution)\n",
    "\n",
    "    # Repeat to approximate time evolution\n",
    "\n",
    "\n",
    "    print(len(circuit))\n",
    "    start = time.perf_counter()\n",
    "\n",
    "    simulator = stim.TableauSimulator()\n",
    "    simulator.do(circuit)\n",
    "\n",
    "    end = time.perf_counter()\n",
    "\n",
    "    sampler = circuit.compile_sampler()\n",
    "    measurements = sampler.sample(shots=10)\n",
    "\n",
    "    print(\"Time\", end - start)\n",
    "    print(measurements)\n",
    "\n",
    "    filename = \"/Users/garn195/Project Repositories/NWQ-Sim/stabilizer/sim_bench/stim_\"+ (str)(each) + \".txt\"\n",
    "    with open(filename, \"w\") as file:\n",
    "        file.write(\"stim\\n\")\n",
    "        file.write((str)(end-start)+\"\\n\")\n",
    "        file.write((str)(n_qubits)+\"\\n\")\n",
    "        file.write((str)(Scount)+\"\\n\")\n",
    "        file.write((str)(Hcount)+\"\\n\")\n",
    "        file.write((str)(CXcount)+\"\\n\")\n",
    "\n",
    "\n",
    "\n"
   ]
  }
 ],
 "metadata": {
  "kernelspec": {
   "display_name": ".venv",
   "language": "python",
   "name": "python3"
  },
  "language_info": {
   "codemirror_mode": {
    "name": "ipython",
    "version": 3
   },
   "file_extension": ".py",
   "mimetype": "text/x-python",
   "name": "python",
   "nbconvert_exporter": "python",
   "pygments_lexer": "ipython3",
   "version": "3.12.5"
  }
 },
 "nbformat": 4,
 "nbformat_minor": 2
}
