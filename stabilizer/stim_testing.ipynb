{
 "cells": [
  {
   "cell_type": "code",
   "execution_count": 43,
   "metadata": {},
   "outputs": [
    {
     "name": "stdout",
     "output_type": "stream",
     "text": [
      "30000\n",
      "Time 0.0013155470005585812\n",
      "[]\n"
     ]
    }
   ],
   "source": [
    "import stim\n",
    "import time\n",
    "import random\n",
    "\n",
    "circuit = stim.Circuit()\n",
    "n_qubits = 512\n",
    "n_repeats = 100000\n",
    "\n",
    "# Efficiently repeat it n_repeats times\n",
    "for repeats in range(n_repeats):\n",
    "    num = random.randint(0, n_qubits-2)\n",
    "    circuit.append(\"H\", [num])  # Apply Hadamard to all qubits\n",
    "    circuit.append(\"CX\", [num, num+1])  # Nearest-neighbor interactions\n",
    "    circuit.append(\"S\", [num+1])  # Phase gates (simulating evolution)\n",
    "\n",
    "# Repeat to approximate time evolution\n",
    "\n",
    "\n",
    "print(len(circuit))\n",
    "start = time.perf_counter()\n",
    "simulator = stim.TableauSimulator()\n",
    "simulator.do(circuit)\n",
    "end = time.perf_counter()\n",
    "\n",
    "sampler = circuit.compile_sampler()\n",
    "measurements = sampler.sample(shots=10)\n",
    "\n",
    "print(\"Time\", end - start)\n",
    "print(measurements)\n",
    "\n",
    "filename = \"/Users/garn195/Project Repositories/NWQ-Sim/stabilizer/sim_bench/stim_\"+ (str)(n_qubits) + \".txt\"\n",
    "with open(filename, \"w\") as file:\n",
    "    file.write(\"stim\\n\")\n",
    "    file.write((str)(end-start)+\"\\n\")\n",
    "    file.write((str)(n_qubits)+\"\\n\")\n",
    "    file.write((str)(n_repeats*3))\n",
    "\n"
   ]
  }
 ],
 "metadata": {
  "kernelspec": {
   "display_name": ".venv",
   "language": "python",
   "name": "python3"
  },
  "language_info": {
   "codemirror_mode": {
    "name": "ipython",
    "version": 3
   },
   "file_extension": ".py",
   "mimetype": "text/x-python",
   "name": "python",
   "nbconvert_exporter": "python",
   "pygments_lexer": "ipython3",
   "version": "3.12.5"
  }
 },
 "nbformat": 4,
 "nbformat_minor": 2
}
