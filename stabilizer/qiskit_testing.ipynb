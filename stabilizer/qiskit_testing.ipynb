{
 "cells": [
  {
   "cell_type": "code",
   "execution_count": 7,
   "metadata": {},
   "outputs": [
    {
     "name": "stdout",
     "output_type": "stream",
     "text": [
      "37\n",
      "Time 9.30312093700013\n"
     ]
    }
   ],
   "source": [
    "import qiskit\n",
    "import time\n",
    "import random\n",
    "from qiskit import QuantumCircuit, transpile\n",
    "from qiskit_aer import AerSimulator\n",
    "\n",
    "def benchmark_qiskit(n_qubits):\n",
    "    for each in n_qubits:\n",
    "        circuit = QuantumCircuit(each)\n",
    "        n_repeats = 100000\n",
    "        Scount = 100000\n",
    "        Hcount = 100000\n",
    "        CXcount = 100000\n",
    "\n",
    "        for _ in range(n_repeats):\n",
    "            circuit.h(random.randint(0, each-1))\n",
    "            num = random.randint(1, each-2)\n",
    "            pos = random.choice([-1, 1])\n",
    "            circuit.cx(num, num+pos)\n",
    "            circuit.s(random.randint(0, each-1)) \n",
    "        \n",
    "        print(circuit.depth())\n",
    "        simulator = AerSimulator(method='stabilizer')\n",
    "\n",
    "        start = time.perf_counter()\n",
    "        result = simulator.run(circuit).result()\n",
    "        end = time.perf_counter()\n",
    "        \n",
    "        print(\"Time\", end - start)\n",
    "        \n",
    "        filename = f\"/Users/garn195/Project Repositories/NWQ-Sim/stabilizer/sim_bench/qiskit_{each}.txt\"\n",
    "        with open(filename, \"w\") as file:\n",
    "            file.write(\"qiskit\\n\")\n",
    "            file.write(f\"{end - start}\\n\")\n",
    "            file.write(f\"{each}\\n\")\n",
    "            file.write(f\"{Scount}\\n\")\n",
    "            file.write(f\"{Hcount}\\n\")\n",
    "            file.write(f\"{CXcount}\\n\")\n",
    "\n",
    "n_qubits = [32768]\n",
    "benchmark_qiskit(n_qubits)\n"
   ]
  }
 ],
 "metadata": {
  "kernelspec": {
   "display_name": ".venv",
   "language": "python",
   "name": "python3"
  },
  "language_info": {
   "codemirror_mode": {
    "name": "ipython",
    "version": 3
   },
   "file_extension": ".py",
   "mimetype": "text/x-python",
   "name": "python",
   "nbconvert_exporter": "python",
   "pygments_lexer": "ipython3",
   "version": "3.12.5"
  }
 },
 "nbformat": 4,
 "nbformat_minor": 2
}
