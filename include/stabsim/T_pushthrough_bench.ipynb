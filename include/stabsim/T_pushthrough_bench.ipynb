{
 "cells": [
  {
   "cell_type": "code",
   "execution_count": 21,
   "metadata": {},
   "outputs": [
    {
     "name": "stdout",
     "output_type": "stream",
     "text": [
      "{'qft_n18.txt': {'proc_time': '58224.91645812988', 'opt_time': '225953.1021118164', 'raw_T': '596', 'opt_T': '596', 'num_iter': '0'}}\n"
     ]
    }
   ],
   "source": [
    "import os\n",
    "\n",
    "folder_path = \"/Users/garn195/Project Repositories/PauliTrans/Benchmarking_Stats\"  # Folder containing text files\n",
    "\n",
    "keys = [\"proc_time\", \"opt_time\", \"raw_T\", \"opt_T\", \"num_iter\"]\n",
    "\n",
    "python_data = {}\n",
    "for filename in os.listdir(folder_path):\n",
    "    if filename.endswith(\".txt\"):\n",
    "        file_path = os.path.join(folder_path, filename)\n",
    "\n",
    "        with open(file_path, \"r\") as file:\n",
    "            lines = [line.strip() for line in file]\n",
    "\n",
    "        if len(lines) != len(keys):\n",
    "            raise ValueError(f\"File {filename} does not match expected number of lines!\")\n",
    "\n",
    "        python_data[filename] = dict(zip(keys, lines))\n",
    "\n",
    "print(python_data)"
   ]
  },
  {
   "cell_type": "code",
   "execution_count": 22,
   "metadata": {},
   "outputs": [
    {
     "name": "stdout",
     "output_type": "stream",
     "text": [
      "{'qft_n18.txt': {'proc_time': '238661', 'opt_time': '0', 'raw_T': '880', 'opt_T': '880', 'num_iter': '0'}}\n"
     ]
    }
   ],
   "source": [
    "folder_path = \"/Users/garn195/Project Repositories/NWQ-Sim/include/stabsim/stab_T_bench\"  # Folder containing text files\n",
    "\n",
    "stab_data = {}\n",
    "for filename in os.listdir(folder_path):\n",
    "    if filename.endswith(\".txt\"):\n",
    "        file_path = os.path.join(folder_path, filename)\n",
    "\n",
    "        with open(file_path, \"r\") as file:\n",
    "            lines = [line.strip() for line in file]\n",
    "\n",
    "        if len(lines) != len(keys):\n",
    "            raise ValueError(f\"File {filename} does not match expected number of lines!\")\n",
    "\n",
    "        stab_data[filename] = dict(zip(keys, lines))\n",
    "\n",
    "print(stab_data)"
   ]
  }
 ],
 "metadata": {
  "kernelspec": {
   "display_name": ".venv",
   "language": "python",
   "name": "python3"
  },
  "language_info": {
   "codemirror_mode": {
    "name": "ipython",
    "version": 3
   },
   "file_extension": ".py",
   "mimetype": "text/x-python",
   "name": "python",
   "nbconvert_exporter": "python",
   "pygments_lexer": "ipython3",
   "version": "3.12.5"
  }
 },
 "nbformat": 4,
 "nbformat_minor": 2
}
