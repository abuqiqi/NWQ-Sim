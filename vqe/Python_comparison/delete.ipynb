{
 "cells": [
  {
   "cell_type": "code",
   "execution_count": 10,
   "metadata": {},
   "outputs": [],
   "source": [
    "import qiskit\n",
    "from qiskit import transpile\n",
    "from qiskit.qasm2 import dumps, dump\n",
    "\n",
    "\n",
    "circuit = qiskit.QuantumCircuit(2)\n",
    "circuit.h(0)\n",
    "circuit.cx(0,1)\n",
    "circuit.measure_all()\n",
    "circuit = transpile(circuit, basis_gates=['x', 'cx', 'sx', 'rz'], optimization_level=0)\n",
    "with open(\"../../build/test_circuit.qasm\", \"w\") as f:\n",
    "    dump(circuit, f)"
   ]
  },
  {
   "cell_type": "code",
   "execution_count": 4,
   "metadata": {},
   "outputs": [],
   "source": []
  },
  {
   "cell_type": "code",
   "execution_count": null,
   "metadata": {},
   "outputs": [],
   "source": []
  }
 ],
 "metadata": {
  "kernelspec": {
   "display_name": "qnew",
   "language": "python",
   "name": "python3"
  },
  "language_info": {
   "codemirror_mode": {
    "name": "ipython",
    "version": 3
   },
   "file_extension": ".py",
   "mimetype": "text/x-python",
   "name": "python",
   "nbconvert_exporter": "python",
   "pygments_lexer": "ipython3",
   "version": "3.12.4"
  }
 },
 "nbformat": 4,
 "nbformat_minor": 2
}
