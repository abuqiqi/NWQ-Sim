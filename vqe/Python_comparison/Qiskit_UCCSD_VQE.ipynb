{
 "cells": [
  {
   "cell_type": "code",
   "execution_count": 1,
   "metadata": {},
   "outputs": [
    {
     "name": "stdout",
     "output_type": "stream",
     "text": [
      "This is a modified operator_pools.py by Muqing Zheng\n",
      "This is a modified vqe_methods.py by Muqing Zheng\n",
      "This is a modified pyscf_helper.py by Muqing Zheng\n"
     ]
    }
   ],
   "source": [
    "from qiskit_nature.units import DistanceUnit\n",
    "from qiskit_nature.second_q.drivers import PySCFDriver\n",
    "from qiskit_nature.second_q.mappers import JordanWignerMapper, InterleavedQubitMapper\n",
    "from qiskit_nature.second_q.circuit.library import HartreeFock, UCCSD\n",
    "from qiskit_nature.second_q.operators import FermionicOp\n",
    "from qiskit_algorithms import VQE\n",
    "from qiskit_algorithms.optimizers import SLSQP, COBYLA, P_BFGS,ADAM,AQGD,NFT\n",
    "from qiskit.primitives import Estimator\n",
    "\n",
    "from produce_xacc_ham import geom_scf2qis\n",
    "from moles import *"
   ]
  },
  {
   "cell_type": "code",
   "execution_count": 2,
   "metadata": {},
   "outputs": [
    {
     "name": "stdout",
     "output_type": "stream",
     "text": [
      "Geometry:  H 0 0 0; H 1.5 0 0; H 3.0 0 0; H 4.5 0 0\n",
      "True Lowest Eigenvalue:  -1.9961503255188096\n"
     ]
    }
   ],
   "source": [
    "# mole_obj = LiH()\n",
    "\n",
    "# geom = \"Li 0 0 0; H 0 0 2.5\"\n",
    "\n",
    "# a = 1.8\n",
    "# geom = f\"H 0 0 0; H {a} 0 0; H {a*2} 0 0; H {a*3} 0 0; H {a*4} 0 0; H {a*5} 0 0\"\n",
    "\n",
    "\n",
    "a = 1.5\n",
    "geom = f\"H 0 0 0; H {a} 0 0; H {a*2} 0 0; H {a*3} 0 0\"\n",
    "\n",
    "print(\"Geometry: \", geom)\n",
    "# unit = DistanceUnit.BOHR\n",
    "unit = DistanceUnit.ANGSTROM\n",
    "##\n",
    "driver = PySCFDriver(\n",
    "    atom=geom,\n",
    "    basis=\"sto3g\",\n",
    "    charge=0,\n",
    "    spin=0,\n",
    "    unit=unit,\n",
    ")\n",
    "es_problem = driver.run()\n",
    "mapper = JordanWignerMapper()\n",
    "\n",
    "\n",
    "\n",
    "qiskit_ham = es_problem.hamiltonian\n",
    "## Add Nuclear Repulsion to Hamiltonian\n",
    "from qiskit_nature.second_q.operators import PolynomialTensor\n",
    "qiskit_ham.electronic_integrals.alpha += PolynomialTensor({\n",
    "    \"\": qiskit_ham.nuclear_repulsion_energy\n",
    "})\n",
    "qiskit_ham.nuclear_repulsion_energy = None\n",
    "##\n",
    "qiskit_ferm_ham = qiskit_ham.second_q_op()\n",
    "qiskit_ham_mat = mapper.map(qiskit_ferm_ham).to_matrix(sparse=True)\n",
    "true_lowest_ev = scipy.sparse.linalg.eigsh(qiskit_ham_mat,1,which='SA')[0][0].real\n",
    "print(\"True Lowest Eigenvalue: \", true_lowest_ev)"
   ]
  },
  {
   "cell_type": "code",
   "execution_count": 7,
   "metadata": {},
   "outputs": [
    {
     "name": "stderr",
     "output_type": "stream",
     "text": [
      "/var/folders/74/7bbhmvxd7mb2xrnkplmh90xc0000gn/T/ipykernel_82966/1193233684.py:12: DeprecationWarning: The class ``qiskit.primitives.estimator.Estimator`` is deprecated as of qiskit 1.2. It will be removed no earlier than 3 months after the release date. All implementations of the `BaseEstimatorV1` interface have been deprecated in favor of their V2 counterparts. The V2 alternative for the `Estimator` class is `StatevectorEstimator`.\n",
      "  vqe_solver = VQE(Estimator(), ansatz,  P_BFGS(maxfun=1000, iprint=10) ) ## COBYLA(maxiter=2000, disp=True) # P_BFGS(maxfun=100, iprint=10) => 3m 21s, error 0.06611099896936112, NFT(maxiter=10, disp=True) => 50s,0.38112909977208664\n",
      "For MacOS, python >= 3.8, using only current process. Multiple core use not supported.\n"
     ]
    },
    {
     "name": "stdout",
     "output_type": "stream",
     "text": [
      "RUNNING THE L-BFGS-B CODE\n",
      "\n",
      "           * * *\n",
      "\n",
      "Machine precision = 2.220D-16\n",
      " N =           26     M =           10\n",
      "\n",
      "At X0         0 variables are exactly at the bounds\n",
      "\n",
      "At iterate    0    f= -1.82914D+00    |proj g|=  2.81423D-01\n"
     ]
    },
    {
     "name": "stderr",
     "output_type": "stream",
     "text": [
      " This problem is unconstrained.\n"
     ]
    },
    {
     "name": "stdout",
     "output_type": "stream",
     "text": [
      "\n",
      "At iterate   10    f= -1.99478D+00    |proj g|=  6.23945D-05\n",
      "\n",
      "           * * *\n",
      "\n",
      "Tit   = total number of iterations\n",
      "Tnf   = total number of function evaluations\n",
      "Tnint = total number of segments explored during Cauchy searches\n",
      "Skip  = number of BFGS updates skipped\n",
      "Nact  = number of active bounds at final generalized Cauchy point\n",
      "Projg = norm of the final projected gradient\n",
      "F     = final function value\n",
      "\n",
      "           * * *\n",
      "\n",
      "   N    Tit     Tnf  Tnint  Skip  Nact     Projg        F\n",
      "   26     13     16      1     0     0   5.818D-06  -1.995D+00\n",
      "  F =  -1.9947836197413278     \n",
      "\n",
      "CONVERGENCE: NORM_OF_PROJECTED_GRADIENT_<=_PGTOL            \n",
      "=== GROUND STATE ENERGY ===\n",
      " \n",
      "* Electronic ground state energy (Hartree): -1.994783619741\n",
      "  - computed part:      -1.994783619741\n",
      " \n",
      "=== MEASURED OBSERVABLES ===\n",
      " \n",
      "  0:  # Particles: 4.000 S: 0.000 S^2: 0.000 M: 0.000\n",
      " \n",
      "=== DIPOLE MOMENTS ===\n",
      " \n",
      "~ Nuclear dipole moment (a.u.): [17.00753512  0.0  0.0]\n",
      " \n",
      "  0: \n",
      "  * Electronic dipole moment (a.u.): [17.007536149202  0.0  0.0]\n",
      "    - computed part:      [17.007536149202  0.0  0.0]\n",
      "  > Dipole moment (a.u.): [-0.000001029202  0.0  0.0]  Total: 0.000001029202\n",
      "                 (debye): [-0.000002615971  0.0  0.0]  Total: 0.000002615971\n",
      " \n"
     ]
    }
   ],
   "source": [
    "ansatz = UCCSD(\n",
    "    es_problem.num_spatial_orbitals,\n",
    "    es_problem.num_particles,\n",
    "    mapper,\n",
    "    initial_state=HartreeFock(\n",
    "        es_problem.num_spatial_orbitals,\n",
    "        es_problem.num_particles,\n",
    "        mapper,\n",
    "    ),\n",
    ")\n",
    "##\n",
    "vqe_solver = VQE(Estimator(), ansatz,  P_BFGS(maxfun=1000, iprint=10) ) ## COBYLA(maxiter=2000, disp=True) # P_BFGS(maxfun=100, iprint=10) => 3m 21s, error 0.06611099896936112, NFT(maxiter=10, disp=True) => 50s,0.38112909977208664\n",
    "vqe_solver.initial_point = [0.0] * ansatz.num_parameters\n",
    "##\n",
    "from qiskit_nature.second_q.algorithms import GroundStateEigensolver\n",
    "calc = GroundStateEigensolver(mapper, vqe_solver)\n",
    "res = calc.solve(es_problem)\n",
    "print(res)"
   ]
  },
  {
   "cell_type": "code",
   "execution_count": 8,
   "metadata": {},
   "outputs": [
    {
     "data": {
      "text/plain": [
       "(26, 432, 43.22708487510681, -1.9947836197413278, 0.0013667057774817692)"
      ]
     },
     "execution_count": 8,
     "metadata": {},
     "output_type": "execute_result"
    }
   ],
   "source": [
    "# res.hartree_fock_energy\n",
    "ansatz.num_parameters, res.raw_result.cost_function_evals, res.raw_result.optimizer_time, res.eigenvalues[0], abs(true_lowest_ev - res.eigenvalues[0]), "
   ]
  },
  {
   "cell_type": "code",
   "execution_count": 14,
   "metadata": {},
   "outputs": [
    {
     "name": "stdout",
     "output_type": "stream",
     "text": [
      "Fermionic Operator\n",
      "number spin orbitals=8, number terms=2\n",
      "  1j * ( +_0 -_2 )\n",
      "+ (-0-1j) * ( +_2 -_0 ) : 0.0055554200973386165\n",
      "\n",
      "Fermionic Operator\n",
      "number spin orbitals=8, number terms=2\n",
      "  1j * ( +_0 -_3 )\n",
      "+ (-0-1j) * ( +_3 -_0 ) : -3.0322679651069683e-07\n",
      "\n",
      "Fermionic Operator\n",
      "number spin orbitals=8, number terms=2\n",
      "  1j * ( +_1 -_2 )\n",
      "+ (-0-1j) * ( +_2 -_1 ) : 7.419157479054976e-07\n",
      "\n",
      "Fermionic Operator\n",
      "number spin orbitals=8, number terms=2\n",
      "  1j * ( +_1 -_3 )\n",
      "+ (-0-1j) * ( +_3 -_1 ) : 0.008046857311971387\n",
      "\n",
      "Fermionic Operator\n",
      "number spin orbitals=8, number terms=2\n",
      "  1j * ( +_4 -_6 )\n",
      "+ (-0-1j) * ( +_6 -_4 ) : 0.005317503271790873\n",
      "\n",
      "Fermionic Operator\n",
      "number spin orbitals=8, number terms=2\n",
      "  1j * ( +_4 -_7 )\n",
      "+ (-0-1j) * ( +_7 -_4 ) : -6.069860317854419e-08\n",
      "\n",
      "Fermionic Operator\n",
      "number spin orbitals=8, number terms=2\n",
      "  1j * ( +_5 -_6 )\n",
      "+ (-0-1j) * ( +_6 -_5 ) : -4.145680662389264e-07\n",
      "\n",
      "Fermionic Operator\n",
      "number spin orbitals=8, number terms=2\n",
      "  1j * ( +_5 -_7 )\n",
      "+ (-0-1j) * ( +_7 -_5 ) : 0.008103207000500741\n",
      "\n",
      "Fermionic Operator\n",
      "number spin orbitals=8, number terms=2\n",
      "  1j * ( +_0 +_1 -_2 -_3 )\n",
      "+ (-0-1j) * ( +_3 +_2 -_1 -_0 ) : 0.06328084473002063\n",
      "\n",
      "Fermionic Operator\n",
      "number spin orbitals=8, number terms=2\n",
      "  1j * ( +_0 +_4 -_2 -_6 )\n",
      "+ (-0-1j) * ( +_6 +_2 -_4 -_0 ) : -0.09430240169391665\n",
      "\n",
      "Fermionic Operator\n",
      "number spin orbitals=8, number terms=2\n",
      "  1j * ( +_0 +_4 -_2 -_7 )\n",
      "+ (-0-1j) * ( +_7 +_2 -_4 -_0 ) : -1.947906135830805e-07\n",
      "\n",
      "Fermionic Operator\n",
      "number spin orbitals=8, number terms=2\n",
      "  1j * ( +_0 +_5 -_2 -_6 )\n",
      "+ (-0-1j) * ( +_6 +_2 -_5 -_0 ) : -6.333204256367403e-08\n",
      "\n",
      "Fermionic Operator\n",
      "number spin orbitals=8, number terms=2\n",
      "  1j * ( +_0 +_5 -_2 -_7 )\n",
      "+ (-0-1j) * ( +_7 +_2 -_5 -_0 ) : 0.18873766401091333\n",
      "\n",
      "Fermionic Operator\n",
      "number spin orbitals=8, number terms=2\n",
      "  1j * ( +_0 +_4 -_3 -_6 )\n",
      "+ (-0-1j) * ( +_6 +_3 -_4 -_0 ) : -4.464829091489427e-07\n",
      "\n",
      "Fermionic Operator\n",
      "number spin orbitals=8, number terms=2\n",
      "  1j * ( +_0 +_4 -_3 -_7 )\n",
      "+ (-0-1j) * ( +_7 +_3 -_4 -_0 ) : -0.1612512993669028\n",
      "\n",
      "Fermionic Operator\n",
      "number spin orbitals=8, number terms=2\n",
      "  1j * ( +_0 +_5 -_3 -_6 )\n",
      "+ (-0-1j) * ( +_6 +_3 -_5 -_0 ) : 0.11944288892534141\n",
      "\n",
      "Fermionic Operator\n",
      "number spin orbitals=8, number terms=2\n",
      "  1j * ( +_0 +_5 -_3 -_7 )\n",
      "+ (-0-1j) * ( +_7 +_3 -_5 -_0 ) : -2.84318190114588e-07\n",
      "\n",
      "Fermionic Operator\n",
      "number spin orbitals=8, number terms=2\n",
      "  1j * ( +_1 +_4 -_2 -_6 )\n",
      "+ (-0-1j) * ( +_6 +_2 -_4 -_1 ) : 1.2652017585683693e-07\n",
      "\n",
      "Fermionic Operator\n",
      "number spin orbitals=8, number terms=2\n",
      "  1j * ( +_1 +_4 -_2 -_7 )\n",
      "+ (-0-1j) * ( +_7 +_2 -_4 -_1 ) : 0.11944641741820261\n",
      "\n",
      "Fermionic Operator\n",
      "number spin orbitals=8, number terms=2\n",
      "  1j * ( +_1 +_5 -_2 -_6 )\n",
      "+ (-0-1j) * ( +_6 +_2 -_5 -_1 ) : -0.36018466773776314\n",
      "\n",
      "Fermionic Operator\n",
      "number spin orbitals=8, number terms=2\n",
      "  1j * ( +_1 +_5 -_2 -_7 )\n",
      "+ (-0-1j) * ( +_7 +_2 -_5 -_1 ) : -4.0667628424311816e-07\n",
      "\n",
      "Fermionic Operator\n",
      "number spin orbitals=8, number terms=2\n",
      "  1j * ( +_1 +_4 -_3 -_6 )\n",
      "+ (-0-1j) * ( +_6 +_3 -_4 -_1 ) : 0.19255080697267532\n",
      "\n",
      "Fermionic Operator\n",
      "number spin orbitals=8, number terms=2\n",
      "  1j * ( +_1 +_4 -_3 -_7 )\n",
      "+ (-0-1j) * ( +_7 +_3 -_4 -_1 ) : -4.3017953484858154e-07\n",
      "\n",
      "Fermionic Operator\n",
      "number spin orbitals=8, number terms=2\n",
      "  1j * ( +_1 +_5 -_3 -_6 )\n",
      "+ (-0-1j) * ( +_6 +_3 -_5 -_1 ) : -5.008444054323565e-07\n",
      "\n",
      "Fermionic Operator\n",
      "number spin orbitals=8, number terms=2\n",
      "  1j * ( +_1 +_5 -_3 -_7 )\n",
      "+ (-0-1j) * ( +_7 +_3 -_5 -_1 ) : -0.08012796152102274\n",
      "\n",
      "Fermionic Operator\n",
      "number spin orbitals=8, number terms=2\n",
      "  1j * ( +_4 +_5 -_6 -_7 )\n",
      "+ (-0-1j) * ( +_7 +_6 -_5 -_4 ) : 0.06458457822706014\n",
      "\n"
     ]
    }
   ],
   "source": [
    "for el,val in zip(ansatz.excitation_ops(), res.raw_result.optimal_point):\n",
    "    print(el, \":\",val)\n",
    "    print()"
   ]
  },
  {
   "cell_type": "code",
   "execution_count": 18,
   "metadata": {},
   "outputs": [
    {
     "data": {
      "text/plain": [
       "(26,\n",
       " [FermionicOp({'+_0 -_2': 1j, '+_2 -_0': (-0-1j)}, num_spin_orbitals=8, ),\n",
       "  FermionicOp({'+_0 -_3': 1j, '+_3 -_0': (-0-1j)}, num_spin_orbitals=8, ),\n",
       "  FermionicOp({'+_1 -_2': 1j, '+_2 -_1': (-0-1j)}, num_spin_orbitals=8, ),\n",
       "  FermionicOp({'+_1 -_3': 1j, '+_3 -_1': (-0-1j)}, num_spin_orbitals=8, ),\n",
       "  FermionicOp({'+_4 -_6': 1j, '+_6 -_4': (-0-1j)}, num_spin_orbitals=8, ),\n",
       "  FermionicOp({'+_4 -_7': 1j, '+_7 -_4': (-0-1j)}, num_spin_orbitals=8, ),\n",
       "  FermionicOp({'+_5 -_6': 1j, '+_6 -_5': (-0-1j)}, num_spin_orbitals=8, ),\n",
       "  FermionicOp({'+_5 -_7': 1j, '+_7 -_5': (-0-1j)}, num_spin_orbitals=8, ),\n",
       "  FermionicOp({'+_0 +_1 -_2 -_3': 1j, '+_3 +_2 -_1 -_0': (-0-1j)}, num_spin_orbitals=8, ),\n",
       "  FermionicOp({'+_0 +_4 -_2 -_6': 1j, '+_6 +_2 -_4 -_0': (-0-1j)}, num_spin_orbitals=8, ),\n",
       "  FermionicOp({'+_0 +_4 -_2 -_7': 1j, '+_7 +_2 -_4 -_0': (-0-1j)}, num_spin_orbitals=8, ),\n",
       "  FermionicOp({'+_0 +_5 -_2 -_6': 1j, '+_6 +_2 -_5 -_0': (-0-1j)}, num_spin_orbitals=8, ),\n",
       "  FermionicOp({'+_0 +_5 -_2 -_7': 1j, '+_7 +_2 -_5 -_0': (-0-1j)}, num_spin_orbitals=8, ),\n",
       "  FermionicOp({'+_0 +_4 -_3 -_6': 1j, '+_6 +_3 -_4 -_0': (-0-1j)}, num_spin_orbitals=8, ),\n",
       "  FermionicOp({'+_0 +_4 -_3 -_7': 1j, '+_7 +_3 -_4 -_0': (-0-1j)}, num_spin_orbitals=8, ),\n",
       "  FermionicOp({'+_0 +_5 -_3 -_6': 1j, '+_6 +_3 -_5 -_0': (-0-1j)}, num_spin_orbitals=8, ),\n",
       "  FermionicOp({'+_0 +_5 -_3 -_7': 1j, '+_7 +_3 -_5 -_0': (-0-1j)}, num_spin_orbitals=8, ),\n",
       "  FermionicOp({'+_1 +_4 -_2 -_6': 1j, '+_6 +_2 -_4 -_1': (-0-1j)}, num_spin_orbitals=8, ),\n",
       "  FermionicOp({'+_1 +_4 -_2 -_7': 1j, '+_7 +_2 -_4 -_1': (-0-1j)}, num_spin_orbitals=8, ),\n",
       "  FermionicOp({'+_1 +_5 -_2 -_6': 1j, '+_6 +_2 -_5 -_1': (-0-1j)}, num_spin_orbitals=8, ),\n",
       "  FermionicOp({'+_1 +_5 -_2 -_7': 1j, '+_7 +_2 -_5 -_1': (-0-1j)}, num_spin_orbitals=8, ),\n",
       "  FermionicOp({'+_1 +_4 -_3 -_6': 1j, '+_6 +_3 -_4 -_1': (-0-1j)}, num_spin_orbitals=8, ),\n",
       "  FermionicOp({'+_1 +_4 -_3 -_7': 1j, '+_7 +_3 -_4 -_1': (-0-1j)}, num_spin_orbitals=8, ),\n",
       "  FermionicOp({'+_1 +_5 -_3 -_6': 1j, '+_6 +_3 -_5 -_1': (-0-1j)}, num_spin_orbitals=8, ),\n",
       "  FermionicOp({'+_1 +_5 -_3 -_7': 1j, '+_7 +_3 -_5 -_1': (-0-1j)}, num_spin_orbitals=8, ),\n",
       "  FermionicOp({'+_4 +_5 -_6 -_7': 1j, '+_7 +_6 -_5 -_4': (-0-1j)}, num_spin_orbitals=8, )])"
      ]
     },
     "execution_count": 18,
     "metadata": {},
     "output_type": "execute_result"
    }
   ],
   "source": [
    "len(ansatz.operators), ansatz.excitation_ops()"
   ]
  },
  {
   "cell_type": "code",
   "execution_count": 17,
   "metadata": {},
   "outputs": [
    {
     "data": {
      "text/html": [
       "<pre style=\"word-wrap: normal;white-space: pre;background: #fff0;line-height: 1.1;font-family: &quot;Courier New&quot;,Courier,monospace\">     ┌───┐\n",
       "q_0: ┤ X ├\n",
       "     ├───┤\n",
       "q_1: ┤ X ├\n",
       "     └───┘\n",
       "q_2: ─────\n",
       "          \n",
       "q_3: ─────\n",
       "     ┌───┐\n",
       "q_4: ┤ X ├\n",
       "     ├───┤\n",
       "q_5: ┤ X ├\n",
       "     └───┘\n",
       "q_6: ─────\n",
       "          \n",
       "q_7: ─────\n",
       "          </pre>"
      ],
      "text/plain": [
       "     ┌───┐\n",
       "q_0: ┤ X ├\n",
       "     ├───┤\n",
       "q_1: ┤ X ├\n",
       "     └───┘\n",
       "q_2: ─────\n",
       "          \n",
       "q_3: ─────\n",
       "     ┌───┐\n",
       "q_4: ┤ X ├\n",
       "     ├───┤\n",
       "q_5: ┤ X ├\n",
       "     └───┘\n",
       "q_6: ─────\n",
       "          \n",
       "q_7: ─────\n",
       "          "
      ]
     },
     "execution_count": 17,
     "metadata": {},
     "output_type": "execute_result"
    }
   ],
   "source": [
    "initial_state=HartreeFock(\n",
    "        es_problem.num_spatial_orbitals,\n",
    "        es_problem.num_particles,\n",
    "        mapper,\n",
    "    )\n",
    "initial_state.draw()"
   ]
  },
  {
   "cell_type": "code",
   "execution_count": null,
   "metadata": {},
   "outputs": [],
   "source": [
    "----- Result Summary -----\n",
    "Method                  : VQE\n",
    "Ansatz                  : UCCSD Minimal\n",
    "No. of Pauli Observables: 197\n",
    "Circuit Stats           : 3428 Gates with 26 parameters and 26 operators\n",
    "Optimization terminated : Function tolerance reached\n",
    "No. of function eval.   : 374\n",
    "Evaluation Time         : 0 hrs 0 mins 0.8737 secs\n",
    "Final objective value   : -1.9947774006793653\n",
    "Final parameters:\n",
    "  0 2^ :: 0.0054659728094905\n",
    "  4 6^ :: 0.0049226449115728\n",
    "  0 3^ :: 0.0000061638698454\n",
    "  4 7^ :: -0.0000033116404708\n",
    "  1 2^ :: -0.0000005425407249\n",
    "  5 6^ :: -0.0000083216163372\n",
    "  1 3^ :: 0.0075665785873179\n",
    "  5 7^ :: 0.0080411623409297\n",
    "  1 0 3^ 2^ :: 0.0560835169126948\n",
    "  5 4 7^ 6^ :: 0.0560716117082524\n",
    "  4 0 6^ 2^ :: -0.0949237121951570\n",
    "  4 0 7^ 2^ :: -0.0000026299496902\n",
    "  5 0 6^ 2^ :: -0.0000079584071585\n",
    "  5 0 7^ 2^ :: 0.1897425855090117\n",
    "  4 0 6^ 3^ :: 0.0000002839535081\n",
    "  4 0 7^ 3^ :: -0.1627345293069382\n",
    "  5 0 6^ 3^ :: 0.1200728750307267\n",
    "  5 0 7^ 3^ :: 0.0000049878683227\n",
    "  4 1 6^ 2^ :: 0.0000058331262501\n",
    "  4 1 7^ 2^ :: 0.1200697326039308\n",
    "  5 1 6^ 2^ :: -0.3611427210431494\n",
    "  5 1 7^ 2^ :: 0.0000062086477152\n",
    "  4 1 6^ 3^ :: 0.1936779727063531\n",
    "  4 1 7^ 3^ :: 0.0000008674466299\n",
    "  5 1 6^ 3^ :: -0.0000128046307483\n",
    "  5 1 7^ 3^ :: -0.0807634047182180"
   ]
  },
  {
   "cell_type": "code",
   "execution_count": 10,
   "metadata": {},
   "outputs": [
    {
     "name": "stdout",
     "output_type": "stream",
     "text": [
      "1 :: 5 4 1 0\n",
      "2 :: 5 4 2 0\n",
      "3 :: 5 4 2 1\n",
      "4 :: 5 4 3 0\n",
      "5 :: 5 4 3 1\n",
      "6 :: 5 4 3 2\n",
      "7 :: 6 4 1 0\n",
      "8 :: 6 4 2 0\n",
      "9 :: 6 4 2 1\n",
      "10 :: 6 4 3 0\n",
      "11 :: 6 4 3 1\n",
      "12 :: 6 4 3 2\n",
      "13 :: 6 5 1 0\n",
      "14 :: 6 5 2 0\n",
      "15 :: 6 5 2 1\n",
      "16 :: 6 5 3 0\n",
      "17 :: 6 5 3 1\n",
      "18 :: 6 5 3 2\n",
      "19 :: 7 4 1 0\n",
      "20 :: 7 4 2 0\n",
      "21 :: 7 4 2 1\n",
      "22 :: 7 4 3 0\n",
      "23 :: 7 4 3 1\n",
      "24 :: 7 4 3 2\n",
      "25 :: 7 5 1 0\n",
      "26 :: 7 5 2 0\n",
      "27 :: 7 5 2 1\n",
      "28 :: 7 5 3 0\n",
      "29 :: 7 5 3 1\n",
      "30 :: 7 5 3 2\n",
      "31 :: 7 6 1 0\n",
      "32 :: 7 6 2 0\n",
      "33 :: 7 6 2 1\n",
      "34 :: 7 6 3 0\n",
      "35 :: 7 6 3 1\n",
      "36 :: 7 6 3 2\n"
     ]
    }
   ],
   "source": [
    "n_sp = 4\n",
    "count = 0\n",
    "occupied = list(range(n_sp))\n",
    "unoccupied = n_sp+np.array(list(range(n_sp)))\n",
    "for p in unoccupied:\n",
    "    for q in unoccupied:\n",
    "        for r in occupied:\n",
    "            for s in occupied:\n",
    "                if p>q and q > r and r >s:\n",
    "                    count += 1\n",
    "                    print(count,\"::\" , p,q,r,s)"
   ]
  },
  {
   "cell_type": "code",
   "execution_count": null,
   "metadata": {},
   "outputs": [],
   "source": []
  },
  {
   "cell_type": "code",
   "execution_count": null,
   "metadata": {},
   "outputs": [],
   "source": []
  },
  {
   "cell_type": "code",
   "execution_count": 7,
   "metadata": {},
   "outputs": [
    {
     "data": {
      "text/plain": [
       "ConfidenceInterval(low=0.07047549346981558, high=0.4518544871516936)"
      ]
     },
     "execution_count": 7,
     "metadata": {},
     "output_type": "execute_result"
    }
   ],
   "source": [
    "from scipy.stats import binomtest\n",
    "binomtest(3, n=15, p=0.1).proportion_ci(confidence_level=0.95, method='wilson')"
   ]
  },
  {
   "cell_type": "code",
   "execution_count": 5,
   "metadata": {},
   "outputs": [
    {
     "data": {
      "text/plain": [
       "0.18406106910639106"
      ]
     },
     "execution_count": 5,
     "metadata": {},
     "output_type": "execute_result"
    }
   ],
   "source": [
    "ConfidenceInterval(low=0.07047549346981558, high=0.4518544871516936)"
   ]
  },
  {
   "cell_type": "code",
   "execution_count": null,
   "metadata": {},
   "outputs": [],
   "source": [
    "ConfidenceInterval(low=0.04331200510583602, high=0.48089113380685317)"
   ]
  }
 ],
 "metadata": {
  "kernelspec": {
   "display_name": "qnew",
   "language": "python",
   "name": "python3"
  },
  "language_info": {
   "codemirror_mode": {
    "name": "ipython",
    "version": 3
   },
   "file_extension": ".py",
   "mimetype": "text/x-python",
   "name": "python",
   "nbconvert_exporter": "python",
   "pygments_lexer": "ipython3",
   "version": "3.12.4"
  }
 },
 "nbformat": 4,
 "nbformat_minor": 2
}
