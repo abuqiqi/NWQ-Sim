{
 "cells": [
  {
   "cell_type": "code",
   "execution_count": 1,
   "metadata": {},
   "outputs": [
    {
     "name": "stdout",
     "output_type": "stream",
     "text": [
      "step = 0,  E = -2.1198583667536908 Ha\n",
      "step = 10,  E = -2.1653652731022812 Ha\n",
      "step = 19,  E = -2.1654535966911261 Ha\n"
     ]
    }
   ],
   "source": [
    "import pennylane as qml\n",
    "from pennylane import numpy as np\n",
    "\n",
    "# Define the molecule\n",
    "a = 1.5\n",
    "symbols  = ['H', 'H', 'H', 'H']\n",
    "geometry = np.array([[0.0,  0.0,  0.0],\n",
    "                     [a,  0.0,  0.0],\n",
    "                     [2*a, 0.0,  0.0],\n",
    "                     [3*a, 0.0, 0.0]], requires_grad = False)\n",
    "electrons = 4\n",
    "charge = 0\n",
    "\n",
    "# Build the electronic Hamiltonian\n",
    "H, qubits = qml.qchem.molecular_hamiltonian(symbols, geometry, charge=charge)\n",
    "\n",
    "# Define the HF state\n",
    "hf_state = qml.qchem.hf_state(electrons, qubits)\n",
    "\n",
    "# Generate single and double excitations\n",
    "singles, doubles = qml.qchem.excitations(electrons, qubits)\n",
    "\n",
    "# Map excitations to the wires the UCCSD circuit will act on\n",
    "s_wires, d_wires = qml.qchem.excitations_to_wires(singles, doubles)\n",
    "\n",
    "# Define the device\n",
    "dev = qml.device(\"default.qubit\", wires=qubits)\n",
    "\n",
    "# Define the qnode\n",
    "@qml.qnode(dev)\n",
    "def circuit(params, wires, s_wires, d_wires, hf_state):\n",
    "    qml.UCCSD(params, wires, s_wires, d_wires, hf_state)\n",
    "    return qml.expval(H)\n",
    "\n",
    "# Define the initial values of the circuit parameters\n",
    "params = np.zeros(len(singles) + len(doubles))\n",
    "\n",
    "# Define the optimizer\n",
    "optimizer = qml.GradientDescentOptimizer(stepsize=0.5)\n",
    "\n",
    "# Optimize the circuit parameters and compute the energy\n",
    "for n in range(20):\n",
    "    params, energy = optimizer.step_and_cost(circuit, params,\n",
    "    wires=range(qubits), s_wires=s_wires, d_wires=d_wires, hf_state=hf_state)\n",
    "    if n % 10 == 0:\n",
    "        print(\"step = {:},  E = {:.16f} Ha\".format(n, energy))\n",
    "print(\"step = {:},  E = {:.16f} Ha\".format(n, energy))"
   ]
  },
  {
   "cell_type": "code",
   "execution_count": 2,
   "metadata": {},
   "outputs": [
    {
     "name": "stdout",
     "output_type": "stream",
     "text": [
      "0: ─╭UCCSD(M0)─┤ ╭<𝓗>\n",
      "1: ─├UCCSD(M0)─┤ ├<𝓗>\n",
      "2: ─├UCCSD(M0)─┤ ├<𝓗>\n",
      "3: ─├UCCSD(M0)─┤ ├<𝓗>\n",
      "4: ─├UCCSD(M0)─┤ ├<𝓗>\n",
      "5: ─├UCCSD(M0)─┤ ├<𝓗>\n",
      "6: ─├UCCSD(M0)─┤ ├<𝓗>\n",
      "7: ─╰UCCSD(M0)─┤ ╰<𝓗>\n",
      "\n",
      "M0 = \n",
      "[ 1.15962028e-02 -8.55398143e-17  1.15962043e-02  1.64557728e-16\n",
      " -1.88601560e-17 -7.51601469e-03  8.17921446e-17 -7.51597456e-03\n",
      "  1.03764849e-01  1.24480882e-17 -1.94826597e-18  6.59250097e-02\n",
      "  4.77122388e-02  1.84627912e-17  1.02612572e-01 -5.49086247e-02\n",
      " -7.38663991e-18  9.47135911e-18 -5.49086112e-02  1.02612401e-01\n",
      "  1.52003616e-18  4.77117339e-02  2.76576961e-01  8.81199784e-18\n",
      " -9.99150163e-18  5.94360242e-02]\n"
     ]
    }
   ],
   "source": [
    "drawer = qml.draw(circuit)\n",
    "print(drawer(params, wires=range(qubits), s_wires=s_wires, d_wires=d_wires, hf_state=hf_state))"
   ]
  },
  {
   "cell_type": "code",
   "execution_count": 3,
   "metadata": {},
   "outputs": [
    {
     "data": {
      "text/plain": [
       "UCCSD(tensor([ 1.15962028e-02, -8.55398143e-17,  1.15962043e-02,\n",
       "         1.64557728e-16, -1.88601560e-17, -7.51601469e-03,\n",
       "         8.17921446e-17, -7.51597456e-03,  1.03764849e-01,\n",
       "         1.24480882e-17, -1.94826597e-18,  6.59250097e-02,\n",
       "         4.77122388e-02,  1.84627912e-17,  1.02612572e-01,\n",
       "        -5.49086247e-02, -7.38663991e-18,  9.47135911e-18,\n",
       "        -5.49086112e-02,  1.02612401e-01,  1.52003616e-18,\n",
       "         4.77117339e-02,  2.76576961e-01,  8.81199784e-18,\n",
       "        -9.99150163e-18,  5.94360242e-02], requires_grad=True), wires=[0, 1, 2, 3, 4, 5, 6, 7])"
      ]
     },
     "execution_count": 3,
     "metadata": {},
     "output_type": "execute_result"
    }
   ],
   "source": [
    "qml.UCCSD(params, wires=range(qubits), s_wires=s_wires, d_wires=d_wires, init_state=hf_state)"
   ]
  },
  {
   "cell_type": "code",
   "execution_count": 4,
   "metadata": {},
   "outputs": [
    {
     "data": {
      "text/plain": [
       "[[0, 4], [0, 6], [1, 5], [1, 7], [2, 4], [2, 6], [3, 5], [3, 7]]"
      ]
     },
     "execution_count": 4,
     "metadata": {},
     "output_type": "execute_result"
    }
   ],
   "source": [
    "singles, doubles = qml.qchem.excitations(electrons, qubits)\n",
    "singles"
   ]
  },
  {
   "cell_type": "code",
   "execution_count": 5,
   "metadata": {},
   "outputs": [
    {
     "data": {
      "text/plain": [
       "[[0, 1, 4, 5],\n",
       " [0, 1, 4, 7],\n",
       " [0, 1, 5, 6],\n",
       " [0, 1, 6, 7],\n",
       " [0, 2, 4, 6],\n",
       " [0, 3, 4, 5],\n",
       " [0, 3, 4, 7],\n",
       " [0, 3, 5, 6],\n",
       " [0, 3, 6, 7],\n",
       " [1, 2, 4, 5],\n",
       " [1, 2, 4, 7],\n",
       " [1, 2, 5, 6],\n",
       " [1, 2, 6, 7],\n",
       " [1, 3, 5, 7],\n",
       " [2, 3, 4, 5],\n",
       " [2, 3, 4, 7],\n",
       " [2, 3, 5, 6],\n",
       " [2, 3, 6, 7]]"
      ]
     },
     "execution_count": 5,
     "metadata": {},
     "output_type": "execute_result"
    }
   ],
   "source": [
    "doubles"
   ]
  },
  {
   "cell_type": "code",
   "execution_count": 6,
   "metadata": {},
   "outputs": [
    {
     "data": {
      "text/plain": [
       "18"
      ]
     },
     "execution_count": 6,
     "metadata": {},
     "output_type": "execute_result"
    }
   ],
   "source": [
    "len(doubles)"
   ]
  },
  {
   "cell_type": "code",
   "execution_count": 7,
   "metadata": {},
   "outputs": [
    {
     "data": {
      "text/plain": [
       "array([1, 1, 1, 1, 0, 0, 0, 0])"
      ]
     },
     "execution_count": 7,
     "metadata": {},
     "output_type": "execute_result"
    }
   ],
   "source": [
    "hf_state"
   ]
  },
  {
   "cell_type": "code",
   "execution_count": 9,
   "metadata": {},
   "outputs": [
    {
     "data": {
      "text/plain": [
       "pennylane.ops.op_math.sum.Sum"
      ]
     },
     "execution_count": 9,
     "metadata": {},
     "output_type": "execute_result"
    }
   ],
   "source": [
    "type(H)"
   ]
  },
  {
   "cell_type": "code",
   "execution_count": null,
   "metadata": {},
   "outputs": [],
   "source": []
  }
 ],
 "metadata": {
  "kernelspec": {
   "display_name": "qnew",
   "language": "python",
   "name": "python3"
  },
  "language_info": {
   "codemirror_mode": {
    "name": "ipython",
    "version": 3
   },
   "file_extension": ".py",
   "mimetype": "text/x-python",
   "name": "python",
   "nbconvert_exporter": "python",
   "pygments_lexer": "ipython3",
   "version": "3.12.4"
  }
 },
 "nbformat": 4,
 "nbformat_minor": 2
}
