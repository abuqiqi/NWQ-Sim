{
 "cells": [
  {
   "cell_type": "code",
   "execution_count": null,
   "metadata": {},
   "outputs": [],
   "source": [
    "from qiskit_nature.units import DistanceUnit\n",
    "from qiskit_nature.second_q.drivers import PySCFDriver\n",
    "from qiskit_nature.second_q.mappers import JordanWignerMapper, InterleavedQubitMapper\n",
    "from qiskit_nature.second_q.circuit.library import HartreeFock, UCCSD\n",
    "from qiskit_nature.second_q.operators import FermionicOp\n",
    "from qiskit_algorithms import VQE\n",
    "from qiskit_algorithms.optimizers import SLSQP, COBYLA, P_BFGS,ADAM,AQGD,NFT\n",
    "from qiskit.primitives import Estimator\n",
    "\n",
    "import scipy\n",
    "import numpy as np\n",
    "from math import comb"
   ]
  },
  {
   "cell_type": "code",
   "execution_count": null,
   "metadata": {},
   "outputs": [
    {
     "name": "stdout",
     "output_type": "stream",
     "text": [
      "Geometry:  H 0 0 0; H 1.0 0 0; H 2.0 0 0; H 3.0 0 0; H 4.0 0 0; H 5.0 0 0; H 6.0 0 0; H 7.0 0 0\n",
      "True Lowest Eigenvalue:  -4.307571602006787\n"
     ]
    }
   ],
   "source": [
    "\n",
    "a = 1.0\n",
    "geom = f\"H 0 0 0; H {a} 0 0; H {a*2} 0 0; H {a*3} 0 0; H {a*4} 0 0; H {a*5} 0 0; H {a*6} 0 0; H {a*7} 0 0\"\n",
    "\n",
    "\n",
    "print(\"Geometry: \", geom)\n",
    "# unit = DistanceUnit.BOHR\n",
    "unit = DistanceUnit.ANGSTROM\n",
    "##\n",
    "driver = PySCFDriver(\n",
    "    atom=geom,\n",
    "    basis=\"sto3g\",\n",
    "    charge=0,\n",
    "    spin=0,\n",
    "    unit=unit,\n",
    ")\n",
    "es_problem = driver.run()\n",
    "mapper = JordanWignerMapper()\n",
    "\n",
    "\n",
    "\n",
    "qiskit_ham = es_problem.hamiltonian\n",
    "## Add Nuclear Repulsion to Hamiltonian\n",
    "from qiskit_nature.second_q.operators import PolynomialTensor\n",
    "qiskit_ham.electronic_integrals.alpha += PolynomialTensor({\n",
    "    \"\": qiskit_ham.nuclear_repulsion_energy\n",
    "})\n",
    "qiskit_ham.nuclear_repulsion_energy = None\n",
    "##\n",
    "qiskit_ferm_ham = qiskit_ham.second_q_op()\n",
    "qiskit_ham_mat = mapper.map(qiskit_ferm_ham).to_matrix(sparse=True)\n",
    "true_lowest_ev = scipy.sparse.linalg.eigsh(qiskit_ham_mat,1,which='SA')[0][0].real\n",
    "print(\"True Lowest Eigenvalue: \", true_lowest_ev)"
   ]
  },
  {
   "cell_type": "code",
   "execution_count": 4,
   "metadata": {},
   "outputs": [
    {
     "data": {
      "text/plain": [
       "(8, (4, 4))"
      ]
     },
     "execution_count": 4,
     "metadata": {},
     "output_type": "execute_result"
    }
   ],
   "source": [
    "es_problem.num_spatial_orbitals, es_problem.num_particles,"
   ]
  },
  {
   "cell_type": "code",
   "execution_count": null,
   "metadata": {},
   "outputs": [],
   "source": [
    "ansatz = UCCSD(\n",
    "    es_problem.num_spatial_orbitals,\n",
    "    es_problem.num_particles,\n",
    "    mapper,\n",
    "    initial_state=HartreeFock(\n",
    "        es_problem.num_spatial_orbitals,\n",
    "        es_problem.num_particles,\n",
    "        mapper,\n",
    "    ),\n",
    ")\n",
    "# ##\n",
    "# vqe_solver = VQE(Estimator(), ansatz,  NFT(maxiter=1000, disp=True)) ## COBYLA(maxiter=2000, disp=True) # P_BFGS(maxfun=100, iprint=10) => 3m 21s, error 0.06611099896936112, NFT(maxiter=10, disp=True) => 50s,0.38112909977208664\n",
    "# vqe_solver.initial_point = [0.0] * ansatz.num_parameters\n",
    "# ##\n",
    "# from qiskit_nature.second_q.algorithms import GroundStateEigensolver\n",
    "# calc = GroundStateEigensolver(mapper, vqe_solver)\n",
    "# res = calc.solve(es_problem)\n",
    "# print(res)"
   ]
  },
  {
   "cell_type": "code",
   "execution_count": 4,
   "metadata": {},
   "outputs": [
    {
     "data": {
      "text/plain": [
       "26"
      ]
     },
     "execution_count": 4,
     "metadata": {},
     "output_type": "execute_result"
    }
   ],
   "source": [
    "# res.hartree_fock_energy\n",
    "ansatz.num_parameters"
   ]
  },
  {
   "cell_type": "code",
   "execution_count": 8,
   "metadata": {},
   "outputs": [
    {
     "data": {
      "text/plain": [
       "[FermionicOp({'+_0 -_2': 1j, '+_2 -_0': (-0-1j)}, num_spin_orbitals=8, ),\n",
       " FermionicOp({'+_0 -_3': 1j, '+_3 -_0': (-0-1j)}, num_spin_orbitals=8, ),\n",
       " FermionicOp({'+_1 -_2': 1j, '+_2 -_1': (-0-1j)}, num_spin_orbitals=8, ),\n",
       " FermionicOp({'+_1 -_3': 1j, '+_3 -_1': (-0-1j)}, num_spin_orbitals=8, ),\n",
       " FermionicOp({'+_4 -_6': 1j, '+_6 -_4': (-0-1j)}, num_spin_orbitals=8, ),\n",
       " FermionicOp({'+_4 -_7': 1j, '+_7 -_4': (-0-1j)}, num_spin_orbitals=8, ),\n",
       " FermionicOp({'+_5 -_6': 1j, '+_6 -_5': (-0-1j)}, num_spin_orbitals=8, ),\n",
       " FermionicOp({'+_5 -_7': 1j, '+_7 -_5': (-0-1j)}, num_spin_orbitals=8, ),\n",
       " FermionicOp({'+_0 +_1 -_2 -_3': 1j, '+_3 +_2 -_1 -_0': (-0-1j)}, num_spin_orbitals=8, ),\n",
       " FermionicOp({'+_0 +_4 -_2 -_6': 1j, '+_6 +_2 -_4 -_0': (-0-1j)}, num_spin_orbitals=8, ),\n",
       " FermionicOp({'+_0 +_4 -_2 -_7': 1j, '+_7 +_2 -_4 -_0': (-0-1j)}, num_spin_orbitals=8, ),\n",
       " FermionicOp({'+_0 +_5 -_2 -_6': 1j, '+_6 +_2 -_5 -_0': (-0-1j)}, num_spin_orbitals=8, ),\n",
       " FermionicOp({'+_0 +_5 -_2 -_7': 1j, '+_7 +_2 -_5 -_0': (-0-1j)}, num_spin_orbitals=8, ),\n",
       " FermionicOp({'+_0 +_4 -_3 -_6': 1j, '+_6 +_3 -_4 -_0': (-0-1j)}, num_spin_orbitals=8, ),\n",
       " FermionicOp({'+_0 +_4 -_3 -_7': 1j, '+_7 +_3 -_4 -_0': (-0-1j)}, num_spin_orbitals=8, ),\n",
       " FermionicOp({'+_0 +_5 -_3 -_6': 1j, '+_6 +_3 -_5 -_0': (-0-1j)}, num_spin_orbitals=8, ),\n",
       " FermionicOp({'+_0 +_5 -_3 -_7': 1j, '+_7 +_3 -_5 -_0': (-0-1j)}, num_spin_orbitals=8, ),\n",
       " FermionicOp({'+_1 +_4 -_2 -_6': 1j, '+_6 +_2 -_4 -_1': (-0-1j)}, num_spin_orbitals=8, ),\n",
       " FermionicOp({'+_1 +_4 -_2 -_7': 1j, '+_7 +_2 -_4 -_1': (-0-1j)}, num_spin_orbitals=8, ),\n",
       " FermionicOp({'+_1 +_5 -_2 -_6': 1j, '+_6 +_2 -_5 -_1': (-0-1j)}, num_spin_orbitals=8, ),\n",
       " FermionicOp({'+_1 +_5 -_2 -_7': 1j, '+_7 +_2 -_5 -_1': (-0-1j)}, num_spin_orbitals=8, ),\n",
       " FermionicOp({'+_1 +_4 -_3 -_6': 1j, '+_6 +_3 -_4 -_1': (-0-1j)}, num_spin_orbitals=8, ),\n",
       " FermionicOp({'+_1 +_4 -_3 -_7': 1j, '+_7 +_3 -_4 -_1': (-0-1j)}, num_spin_orbitals=8, ),\n",
       " FermionicOp({'+_1 +_5 -_3 -_6': 1j, '+_6 +_3 -_5 -_1': (-0-1j)}, num_spin_orbitals=8, ),\n",
       " FermionicOp({'+_1 +_5 -_3 -_7': 1j, '+_7 +_3 -_5 -_1': (-0-1j)}, num_spin_orbitals=8, ),\n",
       " FermionicOp({'+_4 +_5 -_6 -_7': 1j, '+_7 +_6 -_5 -_4': (-0-1j)}, num_spin_orbitals=8, )]"
      ]
     },
     "execution_count": 8,
     "metadata": {},
     "output_type": "execute_result"
    }
   ],
   "source": [
    "ansatz.excitation_ops()"
   ]
  },
  {
   "cell_type": "code",
   "execution_count": null,
   "metadata": {},
   "outputs": [],
   "source": []
  },
  {
   "cell_type": "code",
   "execution_count": null,
   "metadata": {},
   "outputs": [],
   "source": []
  },
  {
   "cell_type": "code",
   "execution_count": null,
   "metadata": {},
   "outputs": [],
   "source": []
  },
  {
   "cell_type": "code",
   "execution_count": 5,
   "metadata": {},
   "outputs": [
    {
     "name": "stdout",
     "output_type": "stream",
     "text": [
      "Single:  18\n",
      "Double:  9 99\n",
      "Total:  117\n"
     ]
    }
   ],
   "source": [
    "n_occ = 6 // 2\n",
    "n_vir = (6 - n_occ) \n",
    "\n",
    "\n",
    "## Single\n",
    "n_single = 2* n_occ * n_vir\n",
    "print(\"Single: \", n_single)\n",
    "\n",
    "## Double\n",
    "s2s = comb(n_vir, 2) * comb(n_occ, 2)\n",
    "n_doubels = s2s*2 + (n_occ*n_vir)**2\n",
    "print(\"Double: \", s2s, n_doubels)\n",
    "\n",
    "print(\"Total: \", n_single + n_doubels)"
   ]
  },
  {
   "cell_type": "code",
   "execution_count": 6,
   "metadata": {},
   "outputs": [
    {
     "data": {
      "text/plain": [
       "9"
      ]
     },
     "execution_count": 6,
     "metadata": {},
     "output_type": "execute_result"
    }
   ],
   "source": [
    "n_occ*n_vir"
   ]
  },
  {
   "cell_type": "code",
   "execution_count": null,
   "metadata": {},
   "outputs": [],
   "source": []
  },
  {
   "cell_type": "code",
   "execution_count": 7,
   "metadata": {},
   "outputs": [],
   "source": [
    "# n_sp = 4\n",
    "# count = -1\n",
    "# # occupied = list(range(n_sp))\n",
    "# # unoccupied = n_sp+np.array(list(range(n_sp)))\n",
    "# occupied = [0,1,6,7]\n",
    "# unoccupied = [2,3,4,5,8,9,10,11]\n",
    "# my_exc_list = []\n",
    "# for s in occupied:\n",
    "#     for r in occupied:\n",
    "#         for q in unoccupied:\n",
    "#             for p in unoccupied:\n",
    "#                 if p>q and r >s:\n",
    "#                     count += 1\n",
    "#                     my_exc_list.append( ( (s,r),(q,p) ) )\n",
    "#                     print(f\"{count} :: (({s},{r}),({q},{p}))\")\n",
    "\n",
    "# my_exc_list = np.sort(my_exc_list)\n",
    "# for i in range(len(my_exc_list)):\n",
    "#     print(f\"{i} :: {my_exc_list[i]}\")"
   ]
  },
  {
   "cell_type": "code",
   "execution_count": 56,
   "metadata": {},
   "outputs": [
    {
     "name": "stdout",
     "output_type": "stream",
     "text": [
      "0 :: ((0,), (3,))\n",
      "1 :: ((0,), (4,))\n",
      "2 :: ((0,), (5,))\n",
      "3 :: ((1,), (3,))\n",
      "4 :: ((1,), (4,))\n",
      "5 :: ((1,), (5,))\n",
      "6 :: ((2,), (3,))\n",
      "7 :: ((2,), (4,))\n",
      "8 :: ((2,), (5,))\n",
      "9 :: ((6,), (9,))\n",
      "10 :: ((6,), (10,))\n",
      "11 :: ((6,), (11,))\n",
      "12 :: ((7,), (9,))\n",
      "13 :: ((7,), (10,))\n",
      "14 :: ((7,), (11,))\n",
      "15 :: ((8,), (9,))\n",
      "16 :: ((8,), (10,))\n",
      "17 :: ((8,), (11,))\n",
      "18 :: ((0, 1), (3, 4))\n",
      "19 :: ((0, 1), (3, 5))\n",
      "20 :: ((0, 2), (3, 4))\n",
      "21 :: ((0, 2), (3, 5))\n",
      "22 :: ((0, 6), (3, 9))\n",
      "23 :: ((0, 6), (3, 10))\n",
      "24 :: ((0, 6), (3, 11))\n",
      "25 :: ((0, 7), (3, 9))\n",
      "26 :: ((0, 7), (3, 10))\n",
      "27 :: ((0, 7), (3, 11))\n",
      "28 :: ((0, 8), (3, 9))\n",
      "29 :: ((0, 8), (3, 10))\n",
      "30 :: ((0, 8), (3, 11))\n",
      "31 :: ((0, 1), (4, 5))\n",
      "32 :: ((0, 2), (4, 5))\n",
      "33 :: ((0, 6), (4, 9))\n",
      "34 :: ((0, 6), (4, 10))\n",
      "35 :: ((0, 6), (4, 11))\n",
      "36 :: ((0, 7), (4, 9))\n",
      "37 :: ((0, 7), (4, 10))\n",
      "38 :: ((0, 7), (4, 11))\n",
      "39 :: ((0, 8), (4, 9))\n",
      "40 :: ((0, 8), (4, 10))\n",
      "41 :: ((0, 8), (4, 11))\n",
      "42 :: ((0, 6), (5, 9))\n",
      "43 :: ((0, 6), (5, 10))\n",
      "44 :: ((0, 6), (5, 11))\n",
      "45 :: ((0, 7), (5, 9))\n",
      "46 :: ((0, 7), (5, 10))\n",
      "47 :: ((0, 7), (5, 11))\n",
      "48 :: ((0, 8), (5, 9))\n",
      "49 :: ((0, 8), (5, 10))\n",
      "50 :: ((0, 8), (5, 11))\n",
      "51 :: ((1, 2), (3, 4))\n",
      "52 :: ((1, 2), (3, 5))\n",
      "53 :: ((1, 6), (3, 9))\n",
      "54 :: ((1, 6), (3, 10))\n",
      "55 :: ((1, 6), (3, 11))\n",
      "56 :: ((1, 7), (3, 9))\n",
      "57 :: ((1, 7), (3, 10))\n",
      "58 :: ((1, 7), (3, 11))\n",
      "59 :: ((1, 8), (3, 9))\n",
      "60 :: ((1, 8), (3, 10))\n",
      "61 :: ((1, 8), (3, 11))\n",
      "62 :: ((1, 2), (4, 5))\n",
      "63 :: ((1, 6), (4, 9))\n",
      "64 :: ((1, 6), (4, 10))\n",
      "65 :: ((1, 6), (4, 11))\n",
      "66 :: ((1, 7), (4, 9))\n",
      "67 :: ((1, 7), (4, 10))\n",
      "68 :: ((1, 7), (4, 11))\n",
      "69 :: ((1, 8), (4, 9))\n",
      "70 :: ((1, 8), (4, 10))\n",
      "71 :: ((1, 8), (4, 11))\n",
      "72 :: ((1, 6), (5, 9))\n",
      "73 :: ((1, 6), (5, 10))\n",
      "74 :: ((1, 6), (5, 11))\n",
      "75 :: ((1, 7), (5, 9))\n",
      "76 :: ((1, 7), (5, 10))\n",
      "77 :: ((1, 7), (5, 11))\n",
      "78 :: ((1, 8), (5, 9))\n",
      "79 :: ((1, 8), (5, 10))\n",
      "80 :: ((1, 8), (5, 11))\n",
      "81 :: ((2, 6), (3, 9))\n",
      "82 :: ((2, 6), (3, 10))\n",
      "83 :: ((2, 6), (3, 11))\n",
      "84 :: ((2, 7), (3, 9))\n",
      "85 :: ((2, 7), (3, 10))\n",
      "86 :: ((2, 7), (3, 11))\n",
      "87 :: ((2, 8), (3, 9))\n",
      "88 :: ((2, 8), (3, 10))\n",
      "89 :: ((2, 8), (3, 11))\n",
      "90 :: ((2, 6), (4, 9))\n",
      "91 :: ((2, 6), (4, 10))\n",
      "92 :: ((2, 6), (4, 11))\n",
      "93 :: ((2, 7), (4, 9))\n",
      "94 :: ((2, 7), (4, 10))\n",
      "95 :: ((2, 7), (4, 11))\n",
      "96 :: ((2, 8), (4, 9))\n",
      "97 :: ((2, 8), (4, 10))\n",
      "98 :: ((2, 8), (4, 11))\n",
      "99 :: ((2, 6), (5, 9))\n",
      "100 :: ((2, 6), (5, 10))\n",
      "101 :: ((2, 6), (5, 11))\n",
      "102 :: ((2, 7), (5, 9))\n",
      "103 :: ((2, 7), (5, 10))\n",
      "104 :: ((2, 7), (5, 11))\n",
      "105 :: ((2, 8), (5, 9))\n",
      "106 :: ((2, 8), (5, 10))\n",
      "107 :: ((2, 8), (5, 11))\n",
      "108 :: ((6, 7), (9, 10))\n",
      "109 :: ((6, 7), (9, 11))\n",
      "110 :: ((6, 8), (9, 10))\n",
      "111 :: ((6, 8), (9, 11))\n",
      "112 :: ((6, 7), (10, 11))\n",
      "113 :: ((6, 8), (10, 11))\n",
      "114 :: ((7, 8), (9, 10))\n",
      "115 :: ((7, 8), (9, 11))\n",
      "116 :: ((7, 8), (10, 11))\n"
     ]
    }
   ],
   "source": [
    "count = -1\n",
    "for i in ansatz.excitation_list:\n",
    "    count += 1\n",
    "    print(f\"{count} :: {i}\")"
   ]
  },
  {
   "cell_type": "code",
   "execution_count": null,
   "metadata": {},
   "outputs": [],
   "source": []
  },
  {
   "cell_type": "code",
   "execution_count": 5,
   "metadata": {},
   "outputs": [
    {
     "data": {
      "text/plain": [
       "-3.2360662982521475"
      ]
     },
     "execution_count": 5,
     "metadata": {},
     "output_type": "execute_result"
    }
   ],
   "source": [
    "import openfermion as of\n",
    "import scipy.sparse as ss\n",
    "import scipy.linalg as la\n",
    "import scipy\n",
    "from produce_xacc_ham import *\n",
    "from _gcim_utilis import parse_hamiltonian\n",
    "\n",
    "# folder_path = '../example_hamiltonians/mz_tests/'\n",
    "# mol_name = 'H618'\n",
    "n_qubits = 12\n",
    "# from _gcim_utilis import parse_hamiltonian\n",
    "# loaded_fermi_ham = parse_hamiltonian(f'{folder_path}mzqis_{mol_name}.hamil', n_qubits//2, use_interleaved=True, return_type = 'of')\n",
    "\n",
    "folder_path = '../example_hamiltonians/'\n",
    "loaded_fermi_ham = parse_hamiltonian(f'{folder_path}H6-6orbitals-1-angstom', n_qubits//2, use_interleaved=True, return_type = 'of')\n",
    "loaded_ham_mat = of.linalg.get_sparse_operator(loaded_fermi_ham, n_qubits).todense()\n",
    "\n",
    "\n",
    "n_a = 3\n",
    "n_b = 3\n",
    "n_orb = 6\n",
    "occupied_list = []\n",
    "for i in range(n_a):\n",
    "    occupied_list.append(i*2)\n",
    "for i in range(n_b):\n",
    "    occupied_list.append(i*2+1)\n",
    "reference_ket = scipy.sparse.csc_matrix(of.jw_configuration_state(occupied_list, 2*n_orb)).transpose()\n",
    "\n",
    "ss.linalg.eigsh(loaded_ham_mat,1,which='SA',v0=reference_ket.todense())[0][0]"
   ]
  },
  {
   "cell_type": "code",
   "execution_count": 6,
   "metadata": {},
   "outputs": [
    {
     "data": {
      "text/plain": [
       "-0.0006166940919358765"
      ]
     },
     "execution_count": 6,
     "metadata": {},
     "output_type": "execute_result"
    }
   ],
   "source": [
    "-3.2360662982521475 - -3.2354496041602117"
   ]
  },
  {
   "cell_type": "code",
   "execution_count": 7,
   "metadata": {},
   "outputs": [
    {
     "data": {
      "text/plain": [
       "-0.0006153453788844132"
      ]
     },
     "execution_count": 7,
     "metadata": {},
     "output_type": "execute_result"
    }
   ],
   "source": [
    "-3.2360662982521475 - -3.2354509528732631"
   ]
  },
  {
   "cell_type": "code",
   "execution_count": 78,
   "metadata": {},
   "outputs": [
    {
     "data": {
      "text/plain": [
       "-3.1747723379966795"
      ]
     },
     "execution_count": 78,
     "metadata": {},
     "output_type": "execute_result"
    }
   ],
   "source": [
    "folder_path = '../example_hamiltonians/mz_tests/'\n",
    "file_name = 'H6_3au_DUCC3_6-electrons_6-Orbitals.out-xacc'\n",
    "n_qubits = 12\n",
    "from _gcim_utilis import parse_hamiltonian\n",
    "loaded_fermi_ham = parse_hamiltonian(f'{folder_path}{file_name}', n_qubits//2, use_interleaved=True, return_type = 'of')\n",
    "loaded_ham_mat = of.linalg.get_sparse_operator(loaded_fermi_ham, n_qubits)\n",
    "\n",
    "n_a = 3\n",
    "n_b = 3\n",
    "n_orb = 6\n",
    "occupied_list = []\n",
    "for i in range(n_a):\n",
    "    occupied_list.append(i*2)\n",
    "for i in range(n_b):\n",
    "    occupied_list.append(i*2+1)\n",
    "reference_ket = scipy.sparse.csc_matrix(of.jw_configuration_state(occupied_list, 2*n_orb)).transpose()\n",
    "\n",
    "ss.linalg.eigsh(loaded_ham_mat,1,which='SA',v0=reference_ket.todense())[0][0]"
   ]
  },
  {
   "cell_type": "code",
   "execution_count": null,
   "metadata": {},
   "outputs": [],
   "source": []
  },
  {
   "cell_type": "code",
   "execution_count": null,
   "metadata": {},
   "outputs": [],
   "source": []
  },
  {
   "cell_type": "code",
   "execution_count": null,
   "metadata": {},
   "outputs": [],
   "source": []
  },
  {
   "cell_type": "code",
   "execution_count": 4,
   "metadata": {},
   "outputs": [
    {
     "name": "stdout",
     "output_type": "stream",
     "text": [
      "Single Excitations\n",
      "0, (0,1)(0,1)\n",
      "1, (0,1)(2,3)\n",
      "2, (0,1)(4,5)\n",
      "3, (0,1)(6,7)\n",
      "4, (2,3)(2,3)\n",
      "5, (2,3)(4,5)\n",
      "6, (2,3)(6,7)\n",
      "7, (4,5)(4,5)\n",
      "8, (4,5)(6,7)\n",
      "9, (6,7)(6,7)\n",
      "Double Excitations\n",
      "10,11 (0,1)(0,1)(0,1)(0,1)\n",
      "12,13 (0,1)(0,1)(0,1)(2,3)\n",
      "14,15 (0,1)(0,1)(0,1)(4,5)\n",
      "16,17 (0,1)(0,1)(0,1)(6,7)\n",
      "18,19 (0,1)(0,1)(2,3)(2,3)\n",
      "20,21 (0,1)(0,1)(2,3)(4,5)\n",
      "22,23 (0,1)(0,1)(2,3)(6,7)\n",
      "24,25 (0,1)(0,1)(4,5)(4,5)\n",
      "26,27 (0,1)(0,1)(4,5)(6,7)\n",
      "28,29 (0,1)(0,1)(6,7)(6,7)\n",
      "30,31 (0,1)(2,3)(0,1)(2,3)\n",
      "32,33 (0,1)(2,3)(0,1)(4,5)\n",
      "34,35 (0,1)(2,3)(0,1)(6,7)\n",
      "36,37 (0,1)(2,3)(2,3)(2,3)\n",
      "38,39 (0,1)(2,3)(2,3)(4,5)\n",
      "40,41 (0,1)(2,3)(2,3)(6,7)\n",
      "42,43 (0,1)(2,3)(4,5)(4,5)\n",
      "44,45 (0,1)(2,3)(4,5)(6,7)\n",
      "46,47 (0,1)(2,3)(6,7)(6,7)\n",
      "48,49 (0,1)(4,5)(0,1)(4,5)\n",
      "50,51 (0,1)(4,5)(0,1)(6,7)\n",
      "52,53 (0,1)(4,5)(2,3)(2,3)\n",
      "54,55 (0,1)(4,5)(2,3)(4,5)\n",
      "56,57 (0,1)(4,5)(2,3)(6,7)\n",
      "58,59 (0,1)(4,5)(4,5)(4,5)\n",
      "60,61 (0,1)(4,5)(4,5)(6,7)\n",
      "62,63 (0,1)(4,5)(6,7)(6,7)\n",
      "64,65 (0,1)(6,7)(0,1)(6,7)\n",
      "66,67 (0,1)(6,7)(2,3)(2,3)\n",
      "68,69 (0,1)(6,7)(2,3)(4,5)\n",
      "70,71 (0,1)(6,7)(2,3)(6,7)\n",
      "72,73 (0,1)(6,7)(4,5)(4,5)\n",
      "74,75 (0,1)(6,7)(4,5)(6,7)\n",
      "76,77 (0,1)(6,7)(6,7)(6,7)\n",
      "78,79 (2,3)(2,3)(2,3)(2,3)\n",
      "80,81 (2,3)(2,3)(2,3)(4,5)\n",
      "82,83 (2,3)(2,3)(2,3)(6,7)\n",
      "84,85 (2,3)(2,3)(4,5)(4,5)\n",
      "86,87 (2,3)(2,3)(4,5)(6,7)\n",
      "88,89 (2,3)(2,3)(6,7)(6,7)\n",
      "90,91 (2,3)(4,5)(2,3)(4,5)\n",
      "92,93 (2,3)(4,5)(2,3)(6,7)\n",
      "94,95 (2,3)(4,5)(4,5)(4,5)\n",
      "96,97 (2,3)(4,5)(4,5)(6,7)\n",
      "98,99 (2,3)(4,5)(6,7)(6,7)\n",
      "100,101 (2,3)(6,7)(2,3)(6,7)\n",
      "102,103 (2,3)(6,7)(4,5)(4,5)\n",
      "104,105 (2,3)(6,7)(4,5)(6,7)\n",
      "106,107 (2,3)(6,7)(6,7)(6,7)\n",
      "108,109 (4,5)(4,5)(4,5)(4,5)\n",
      "110,111 (4,5)(4,5)(4,5)(6,7)\n",
      "112,113 (4,5)(4,5)(6,7)(6,7)\n",
      "114,115 (4,5)(6,7)(4,5)(6,7)\n",
      "116,117 (4,5)(6,7)(6,7)(6,7)\n",
      "118,119 (6,7)(6,7)(6,7)(6,7)\n"
     ]
    }
   ],
   "source": [
    "import numpy as np\n",
    "n_orb = 4\n",
    "\n",
    "counter = 0\n",
    "\n",
    "print(\"Single Excitations\")\n",
    "for p in range(0,n_orb):\n",
    "    pa = 2*p\n",
    "    pb = 2*p+1\n",
    "\n",
    "    for q in range(p,n_orb):\n",
    "        qa = 2*q\n",
    "        qb = 2*q+1\n",
    "        \n",
    "        print(f\"{counter}, ({pa},{pb})({qa},{qb})\")\n",
    "        counter += 1\n",
    "\n",
    "print(\"Double Excitations\")\n",
    "pq = -1\n",
    "for p in range(0,n_orb):\n",
    "    pa = 2*p\n",
    "    pb = 2*p+1\n",
    "\n",
    "    for q in range(p,n_orb):\n",
    "        qa = 2*q\n",
    "        qb = 2*q+1\n",
    "\n",
    "        pq += 1\n",
    "\n",
    "        rs = -1\n",
    "        for r in range(0,n_orb):\n",
    "            ra = 2*r\n",
    "            rb = 2*r+1\n",
    "\n",
    "            for s in range(r,n_orb):\n",
    "                sa = 2*s\n",
    "                sb = 2*s+1\n",
    "\n",
    "                rs += 1\n",
    "\n",
    "                if(pq > rs):\n",
    "                    continue\n",
    "                print(f\"{counter},{counter+1} ({pa},{pb})({qa},{qb})({ra},{rb})({sa},{sb})\")\n",
    "                counter += 2"
   ]
  },
  {
   "cell_type": "code",
   "execution_count": 9,
   "metadata": {},
   "outputs": [
    {
     "data": {
      "text/plain": [
       "(256, 24, 120, 24, 12, 12, 192)"
      ]
     },
     "execution_count": 9,
     "metadata": {},
     "output_type": "execute_result"
    }
   ],
   "source": [
    "import numpy as np\n",
    "\n",
    "n = 4\n",
    "N1 = n * (n-1) * (n-2) * (n-3)\n",
    "N2 = n*(n-1)*(4*n-6)\n",
    "N3 = n * (n-1) * (n-2)\n",
    "N4 = n * (n-1)\n",
    "N5 = n * (n-1)\n",
    "n**4, N1, N2, N3, N4, N5, N1+N2+N3+N4+N5"
   ]
  },
  {
   "cell_type": "code",
   "execution_count": null,
   "metadata": {},
   "outputs": [],
   "source": []
  }
 ],
 "metadata": {
  "kernelspec": {
   "display_name": "qnew",
   "language": "python",
   "name": "python3"
  },
  "language_info": {
   "codemirror_mode": {
    "name": "ipython",
    "version": 3
   },
   "file_extension": ".py",
   "mimetype": "text/x-python",
   "name": "python",
   "nbconvert_exporter": "python",
   "pygments_lexer": "ipython3",
   "version": "3.12.4"
  }
 },
 "nbformat": 4,
 "nbformat_minor": 2
}
