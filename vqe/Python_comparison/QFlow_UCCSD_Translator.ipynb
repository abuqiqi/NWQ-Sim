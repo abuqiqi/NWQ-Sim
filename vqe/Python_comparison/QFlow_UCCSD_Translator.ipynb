{
 "cells": [
  {
   "cell_type": "code",
   "execution_count": 1,
   "metadata": {},
   "outputs": [],
   "source": [
    "import scipy\n",
    "import numpy as np\n",
    "import scipy.sparse as sp\n",
    "import scipy.linalg as sl\n",
    "from qiskit.quantum_info import Statevector\n",
    "\n",
    "from qiskit_nature.units import DistanceUnit\n",
    "# from qiskit_nature.second_q.drivers import PySCFDriver\n",
    "# from qiskit_nature.second_q.mappers import JordanWignerMapper\n",
    "from qiskit_nature.second_q.mappers import InterleavedQubitMapper\n",
    "from qiskit_nature.second_q.circuit.library import HartreeFock, UCCSD\n",
    "\n",
    "from qiskit.circuit import Parameter\n",
    "\n",
    "from scipy.optimize import minimize"
   ]
  },
  {
   "cell_type": "code",
   "execution_count": 2,
   "metadata": {},
   "outputs": [],
   "source": [
    "def d2b(n, l):\n",
    "    # '5' -> '0101' when n = 5, l = 4\n",
    "    fs = \"{:0\" + str(int(l)) + \"b}\"\n",
    "    return fs.format(n)\n",
    "\n",
    "def qs2fs(qs):\n",
    "    return qs\n",
    "\n",
    "def qv2fv(qvec):\n",
    "    ## qiskit vector to openfermion vector due to specific orbital ordering\n",
    "    cand = 0*qvec\n",
    "    vlen = len(qvec)\n",
    "    nq = int(np.log2(vlen))\n",
    "    for i in range(vlen):\n",
    "        qbin_i = d2b(i, nq)[::-1]\n",
    "        fbin_i = qs2fs(qbin_i)\n",
    "        # print(qbin_i, fbin_i)\n",
    "        cand[int(fbin_i, 2)] = qvec[i]\n",
    "    return cand\n",
    "\n",
    "def HFstate(nele, nq):\n",
    "    hf_str = '1'*nele + '0'*(nq - nele)\n",
    "    hf = np.zeros(2**(nq))\n",
    "    hf[int(hf_str,2)] = 1\n",
    "    return hf"
   ]
  },
  {
   "cell_type": "markdown",
   "metadata": {},
   "source": [
    "## Extract the basis vectors $\\{\\ket{\\phi_j}\\}$ and the eigenvector corresponds to the lowest energy $\\vec{v}$ from GCM"
   ]
  },
  {
   "cell_type": "code",
   "execution_count": null,
   "metadata": {},
   "outputs": [],
   "source": [
    "# mole_name = 'H4S'\n",
    "# iter_num = 14 #10\n",
    "# geom = \"H 0 0 0; H 0.03141463462364135 1.9997532649633212 0; H 2.0314146346236415 1.9997532649633212 0; H 2.0628292692472825 0 0\"\n",
    "# nele = 4\n",
    "# purt = 1e-14\n",
    "# unit = DistanceUnit.BOHR\n",
    "\n",
    "# mole_name = 'H4L'\n",
    "# iter_num = 10\n",
    "# geom = \"H 0 0 0; H 2 0 0; H 4 0 0; H 6 0 0\"\n",
    "# nele = 4\n",
    "# purt = 1e-14\n",
    "# unit = DistanceUnit.BOHR\n",
    "\n",
    "# mole_name = 'LiH'\n",
    "# iter_num = 55\n",
    "# geom = \"Li 0 0 0; H 0 0 1.62\"\n",
    "# nele = 4\n",
    "# purt = 1e-12\n",
    "# unit = DistanceUnit.ANGSTROM\n",
    "\n",
    "# mole_name = 'BEH2'\n",
    "# iter_num = 103\n",
    "# geom = \"Be 0 0 0; H -1.33 0 0; H 1.33 0 0\"\n",
    "# nele = 6\n",
    "# purt = 1e-14\n",
    "# unit = DistanceUnit.ANGSTROM\n",
    "\n",
    "# mole_name='H65A'\n",
    "# geom = \"H 0 0 0; H 5 0 0; H 10 0 0; H 15 0 0; H 20 0 0; H 25 0 0\"\n",
    "# iter_num = 36\n",
    "# nele = 6\n",
    "# purt = 1e-14\n",
    "# unit = DistanceUnit.ANGSTROM\n",
    "\n",
    "# mole_name='H620'\n",
    "# geom = \"H 0 0 0; H 2 0 0; H 4 0 0; H 6 0 0; H 8 0 0; H 10 0 0\"\n",
    "# iter_num = 78\n",
    "# nele = 6\n",
    "# purt = 1e-14\n",
    "# unit = DistanceUnit.BOHR\n",
    "\n",
    "mole_name='H635'\n",
    "geom = \"H 0 0 0; H 3.5 0 0; H 7 0 0; H 10.5 0 0; H 14 0 0; H 17.5 0 0\"\n",
    "# iter_num = 69\n",
    "iter_num = 92\n",
    "nele = 6\n",
    "purt = 1e-14\n",
    "unit = DistanceUnit.BOHR\n",
    "\n",
    "# mole_name='N235F4'\n",
    "# iter_num = 20\n",
    "# nele = 6\n",
    "# purt = 1e-12\n",
    "# unit = DistanceUnit.ANGSTROM\n",
    "\n",
    "# mole_name = 'H4E65'\n",
    "# iter_num = 11\n",
    "# geom = \"H 0 0 0; H 0.65 0 0; H 1.3 0 0; H 1.95 0 0\"\n",
    "# nele = 4\n",
    "# purt = 1e-14\n",
    "# unit = DistanceUnit.ANGSTROM\n",
    "\n",
    "# mole_name = 'H4E7'\n",
    "# iter_num = 14\n",
    "# geom = \"H 0 0 0; H 0.7 0 0; H 1.4 0 0; H 2.1 0 0\"\n",
    "# nele = 4\n",
    "# purt = 1e-14\n",
    "# unit = DistanceUnit.ANGSTROM\n",
    "\n",
    "# mole_name = 'H4E75'\n",
    "# iter_num = 14\n",
    "# geom = \"H 0 0 0; H 0.75 0 0; H 1.5 0 0; H 2.25 0 0\"\n",
    "# nele = 4\n",
    "# purt = 1e-14\n",
    "# unit = DistanceUnit.ANGSTROM\n",
    "\n",
    "# mole_name = 'H4E8'\n",
    "# iter_num = 16\n",
    "# geom = \"H 0 0 0; H 0.8 0 0; H 1.6 0 0; H 2.4 0 0\"\n",
    "# nele = 4\n",
    "# purt = 1e-14\n",
    "# unit = DistanceUnit.ANGSTROM\n",
    "\n",
    "\n",
    "\n",
    "gcm_folder = 'Output_Data/ADAPT-GCM/GCM_'\n",
    "# vqe_folder = 'Output_Data/ADAPT-VQE-GCM/GV_'\n",
    "fix = '_tp4/'\n",
    "gcm_file_address = gcm_folder + mole_name + fix\n",
    "\n",
    "mole_ham = sp.load_npz(gcm_file_address+f'MoleHam.npz')\n",
    "nq = int( np.log2(mole_ham.shape[1]) )\n",
    "hf_vec = HFstate(nele, nq)\n",
    "basis_mat = np.matrix( np.load(gcm_file_address+f'IterMats/IterAG{iter_num}_basis_mat.npy') )\n",
    "basis_mat_sp = sp.csc_matrix(basis_mat)\n",
    "\n",
    "oldH = np.load(gcm_file_address+f'IterMats/IterAG{iter_num}_H.npy')\n",
    "oldS = np.load(gcm_file_address+f'IterMats/IterAG{iter_num}_S.npy')\n",
    "newH = basis_mat_sp.conjugate().transpose() @ mole_ham @ basis_mat_sp\n",
    "\n",
    "# mole_eval, mole_evec = sl.eigh(mole_ham)\n",
    "true_ev, low_evec = scipy.sparse.linalg.eigsh(mole_ham,1,which='SA',v0=hf_vec)\n",
    "true_ev = true_ev[0]\n",
    "print(\"True lowest eigenvalue:\", true_ev)\n",
    "\n",
    "## verification\n",
    "print(\"Verification of the right basis matrix:\", np.linalg.norm(oldH - newH))\n",
    "\n",
    "## Eigenvalues and eigenvectors\n",
    "eval, evec = sl.eigh(oldH, oldS+np.eye(oldS.shape[0])*purt)\n",
    "print(\"Verification of eigenvector:\", np.linalg.norm(oldH.dot(evec[:,0]) - eval[0] * oldS.dot(evec[:,0]) ))\n",
    "\n",
    "print(\"\\nLowest eigenvalue error:\", np.abs(eval[0] - true_ev))\n",
    "# print(\"Eigenvector norm:\", np.linalg.norm(evec[:,0]))\n",
    "\n",
    "basis_mat.shape, evec[:,0].shape"
   ]
  },
  {
   "cell_type": "markdown",
   "metadata": {},
   "source": [
    "## Compute GCM state $\\ket{\\psi_{GCM}} = \\sum_j v_j \\ket{\\phi_{j}}$ up to a normalization"
   ]
  },
  {
   "cell_type": "code",
   "execution_count": null,
   "metadata": {},
   "outputs": [],
   "source": [
    "gcm_vec = basis_mat[:,0] * evec[:,0][0]\n",
    "for ii in range(1, basis_mat.shape[1]):\n",
    "    gcm_vec += basis_mat[:,ii] * evec[:,0][ii]\n",
    "\n",
    "norm_gcm_vec = np.linalg.norm(gcm_vec, ord=2)\n",
    "\n",
    "gcm_state = gcm_vec / norm_gcm_vec\n",
    "\n",
    "if np.linalg.norm(gcm_state-low_evec) > 1:\n",
    "    gcm_state = -gcm_state\n",
    "\n",
    "gcm_sv = Statevector(gcm_state)\n",
    "\n",
    "print(gcm_state[np.abs(gcm_state) > 0].real)\n",
    "gcm_vec.shape, norm_gcm_vec, np.linalg.norm(gcm_state, ord=2)"
   ]
  },
  {
   "cell_type": "markdown",
   "metadata": {},
   "source": [
    "## Check with exact eigenvectors"
   ]
  },
  {
   "cell_type": "code",
   "execution_count": null,
   "metadata": {},
   "outputs": [],
   "source": [
    "overlap = np.abs(gcm_state.conjugate().T.dot(low_evec).flatten()[0,0])**2\n",
    "print('Eigenvalue = {:8.5f}  '.format(true_ev), \n",
    "    \"1-|<GCM|Exact>|^2=\", 1-overlap, \"Norm differnce\", np.linalg.norm(gcm_state-low_evec)) "
   ]
  },
  {
   "cell_type": "markdown",
   "metadata": {},
   "source": [
    "## Prepare UCCSD state $\\ket{\\psi_{UCCSD}}$ from $\\ket{\\psi_{HF}}$"
   ]
  },
  {
   "cell_type": "code",
   "execution_count": null,
   "metadata": {},
   "outputs": [],
   "source": [
    "from qiskit_nature.units import DistanceUnit\n",
    "from qiskit_nature.second_q.drivers import PySCFDriver\n",
    "from qiskit_nature.second_q.mappers import JordanWignerMapper\n",
    "\n",
    "driver = PySCFDriver(\n",
    "    atom=geom,\n",
    "    basis=\"sto3g\",\n",
    "    charge=0,\n",
    "    spin=0,\n",
    "    unit=unit,\n",
    ")\n",
    "# DistanceUnit.ANGSTROM\n",
    "\n",
    "es_problem = driver.run()\n",
    "mapper = InterleavedQubitMapper(JordanWignerMapper())\n",
    "# qiskit_ham = mapper.map(es_problem.hamiltonian.second_q_op()).to_matrix()\n",
    "\n",
    "# Create the UCCSD circuit\n",
    "ansatz = UCCSD(\n",
    "    es_problem.num_spatial_orbitals,\n",
    "    es_problem.num_particles,\n",
    "    mapper,\n",
    "    initial_state=HartreeFock(\n",
    "        es_problem.num_spatial_orbitals,\n",
    "        es_problem.num_particles,\n",
    "        mapper,\n",
    "    ),\n",
    ")\n",
    "# ansatz = UCC(num_spatial_orbitals=4, num_particles=(2,2),excitations='sd', qubit_mapper=mapper,\n",
    "#                initial_state=HartreeFock(4, (2,2), mapper) )\n",
    "\n",
    "from qiskit_nature.second_q.algorithms.initial_points import MP2InitialPoint,VSCFInitialPoint, HFInitialPoint\n",
    "initial_point = MP2InitialPoint() # VSCFInitialPoint() # MP2InitialPoint()\n",
    "initial_point.ansatz = ansatz\n",
    "initial_point.problem = es_problem\n",
    "initial_point.to_numpy_array()"
   ]
  },
  {
   "cell_type": "code",
   "execution_count": 22,
   "metadata": {},
   "outputs": [
    {
     "name": "stdout",
     "output_type": "stream",
     "text": [
      "1-overlap= 0.6754225442067525\n"
     ]
    },
    {
     "name": "stderr",
     "output_type": "stream",
     "text": [
      "/var/folders/74/7bbhmvxd7mb2xrnkplmh90xc0000gn/T/ipykernel_40222/808767598.py:27: RuntimeWarning: Maximum number of iterations has been exceeded.\n",
      "  result = minimize(obj_func, initial_params, method='Nelder-Mead', options={'disp': True, 'maxiter': 1000})\n"
     ]
    },
    {
     "data": {
      "text/plain": [
       "       message: Maximum number of iterations has been exceeded.\n",
       "       success: False\n",
       "        status: 2\n",
       "           fun: -0.3245774557932475\n",
       "             x: [-1.037e-04 -3.178e-05 ...  1.313e-05 -7.117e-02]\n",
       "           nit: 1000\n",
       "          nfev: 1133\n",
       " final_simplex: (array([[-1.037e-04, -3.178e-05, ...,  1.313e-05,\n",
       "                        -7.117e-02],\n",
       "                       [-1.394e-04, -4.093e-06, ...,  3.815e-05,\n",
       "                        -7.103e-02],\n",
       "                       ...,\n",
       "                       [-2.473e-05, -5.178e-05, ...,  1.661e-05,\n",
       "                        -7.060e-02],\n",
       "                       [-2.587e-05, -4.531e-05, ...,  1.905e-05,\n",
       "                        -7.060e-02]]), array([-3.246e-01, -3.241e-01, ..., -3.225e-01, -3.225e-01]))"
      ]
     },
     "execution_count": 22,
     "metadata": {},
     "output_type": "execute_result"
    }
   ],
   "source": [
    "# Prepare the ansatz circuit\n",
    "params = ansatz.parameters\n",
    "param_values = [Parameter(f'theta_{i}') for i in range(len(params))]\n",
    "ansatz_circuit = ansatz.assign_parameters(param_values)\n",
    "\n",
    "## Define the cost function to maximize overlap\n",
    "def obj_func(parameter_values):\n",
    "    uccsd_circuit = ansatz_circuit.assign_parameters(parameter_values)\n",
    "    psi_uccsd_unopt = qv2fv(Statevector(uccsd_circuit).data)\n",
    "    overlap = np.array((psi_uccsd_unopt.conjugate().T.dot(gcm_state))**2).real[0,0]\n",
    "    return -overlap \n",
    "\n",
    "# Optimize the parameters to maximize overlap\n",
    "from numpy.random import Generator, PCG64\n",
    "rng = Generator(PCG64(38749))\n",
    "# initial_params = (2*rng.random(len(params))-1)*np.pi ## initial guess\n",
    "initial_params = initial_point.to_numpy_array()\n",
    "\n",
    "Nfeval = 1\n",
    "def callbackF(Xi):\n",
    "    global Nfeval\n",
    "    print('{0:4d}   {1: 3.6f}   {2: 3.6f}   {3: 3.6f}   {4: 3.6f}'.format(Nfeval, Xi[0], Xi[1], Xi[2], obj_func(Xi)))\n",
    "    Nfeval += 1\n",
    "\n",
    "\n",
    "# result = minimize(obj_func, initial_params, method='CG', callback=callbackF, options={'disp': True, 'maxiter': 300})\n",
    "result = minimize(obj_func, initial_params, method='Nelder-Mead', options={'disp': True, 'maxiter': 1000})\n",
    "# initial_opt_params = result.x\n",
    "print(\"1-overlap=\", 1+result.fun)\n",
    "result"
   ]
  },
  {
   "cell_type": "code",
   "execution_count": 8,
   "metadata": {},
   "outputs": [],
   "source": [
    "np.save(gcm_file_address+'UCCSD_overlap_optparam.npy', result.x)"
   ]
  },
  {
   "cell_type": "markdown",
   "metadata": {},
   "source": [
    "## Verfication"
   ]
  },
  {
   "cell_type": "code",
   "execution_count": null,
   "metadata": {},
   "outputs": [],
   "source": [
    "psi_uccsd = qv2fv(Statevector(ansatz_circuit.assign_parameters(result.x)).data)\n",
    "psi_uccsd_vec = np.matrix(psi_uccsd.real.reshape(-1,1))\n",
    "uccsd_ev_qh = (psi_uccsd_vec.conjugate().T.dot(mole_ham.todense()).dot(psi_uccsd_vec)[0,0].real)/psi_uccsd_vec.conjugate().T.dot(psi_uccsd_vec)[0,0]\n",
    "uccsd_ev_qh, true_ev, uccsd_ev_qh - true_ev"
   ]
  },
  {
   "cell_type": "code",
   "execution_count": 10,
   "metadata": {},
   "outputs": [],
   "source": [
    "# uccsd_ev_qiskit_ham = (psi_uccsd_vec.conjugate().T.dot(qiskit_ham).dot(psi_uccsd_vec)[0,0].real)/psi_uccsd_vec.conjugate().T.dot(psi_uccsd_vec)[0,0]\n",
    "# uccsd_ev_qiskit_ham, true_ev, uccsd_ev_qiskit_ham - true_ev"
   ]
  },
  {
   "cell_type": "code",
   "execution_count": null,
   "metadata": {},
   "outputs": [],
   "source": [
    "hf_ev = hf_vec.conjugate().T.dot(mole_ham.todense()).dot(hf_vec)[0,0]\n",
    "gcm_ev = gcm_state.conjugate().T.dot(mole_ham.todense()).dot(gcm_state)[0,0]\n",
    "gcm_ev, hf_ev , gcm_ev - true_ev"
   ]
  },
  {
   "cell_type": "code",
   "execution_count": null,
   "metadata": {},
   "outputs": [],
   "source": []
  },
  {
   "cell_type": "code",
   "execution_count": null,
   "metadata": {},
   "outputs": [],
   "source": []
  }
 ],
 "metadata": {
  "kernelspec": {
   "display_name": "quant",
   "language": "python",
   "name": "python3"
  },
  "language_info": {
   "codemirror_mode": {
    "name": "ipython",
    "version": 3
   },
   "file_extension": ".py",
   "mimetype": "text/x-python",
   "name": "python",
   "nbconvert_exporter": "python",
   "pygments_lexer": "ipython3",
   "version": "3.11.9"
  }
 },
 "nbformat": 4,
 "nbformat_minor": 2
}
